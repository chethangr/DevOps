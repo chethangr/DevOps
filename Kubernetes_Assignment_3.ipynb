{
 "cells": [
  {
   "cell_type": "markdown",
   "id": "34972beb",
   "metadata": {},
   "source": [
    "1.\tHow do you monitor the Kubernetes cluster?"
   ]
  },
  {
   "cell_type": "markdown",
   "id": "7812cf02",
   "metadata": {},
   "source": [
    "The most straightforward solution to monitor your Kubernetes cluster is by using a combination of Heapster to collect metrics, InfluxDB to store it in a time series database, and Grafana to present and aggregate the collected information"
   ]
  },
  {
   "cell_type": "markdown",
   "id": "06a82473",
   "metadata": {},
   "source": [
    "2.\tHow do we get POD's central logs?"
   ]
  },
  {
   "cell_type": "markdown",
   "id": "27c64d53",
   "metadata": {},
   "source": [
    "Following are the common logging patterns\n",
    "\n",
    "Node level logging agent.\n",
    "\n",
    "Streaming sidecar container.\n",
    "\n",
    "Sidecar container with the logging agent.\n",
    "\n",
    "Export logs directly from the application.\n",
    "\n",
    "In the setup, journalbeat and filebeat are running as daemonset. Logs collected by these are dumped to the kafka topic which is eventually dumped to the ELK stack."
   ]
  },
  {
   "cell_type": "markdown",
   "id": "fa4f334c",
   "metadata": {},
   "source": [
    "3.\tWhat are the components of a Kubernetes node?"
   ]
  },
  {
   "cell_type": "markdown",
   "id": "7a5e5172",
   "metadata": {},
   "source": [
    " The components on a node include the kubelet, a container runtime, and the kube-proxy."
   ]
  },
  {
   "cell_type": "markdown",
   "id": "3e073f02",
   "metadata": {},
   "source": [
    "4.\tHow does Kubernetes make containerized deployment more manageable?"
   ]
  },
  {
   "cell_type": "markdown",
   "id": "0f795fe6",
   "metadata": {},
   "source": [
    "Kubernetes is an open source container orchestration platform that allows large numbers of containers to work together in congruence and reduces operational burdens. It enables simplified heterogenous deployment of application from On-Prem to Cloud to Edge."
   ]
  },
  {
   "cell_type": "markdown",
   "id": "70abdf33",
   "metadata": {},
   "source": [
    "5.\tWhat is the difference between Kubernetes and Docker Swarm?"
   ]
  },
  {
   "cell_type": "markdown",
   "id": "809fcf7d",
   "metadata": {},
   "source": [
    "The installation procedure of the K8s is very complicated but after installation the cluster is robust.\n",
    "\n",
    "Docker swarm installation process is very simple but the cluster is not robust.\n",
    "\n",
    "Kubernetes can process the auto-scaling but the Docker swarm cannot process the auto-scaling of the pods based on the load.\n",
    "\n",
    "Kubernetes is a complete Framework. It maintains the cluster states more consistently so autoscaling is not as fast as Docker Swarm.\n"
   ]
  },
  {
   "cell_type": "markdown",
   "id": "d658366b",
   "metadata": {},
   "source": [
    "6.\tWhat exactly does Kubernetes controller manager imply?"
   ]
  },
  {
   "cell_type": "markdown",
   "id": "ab6cf9a6",
   "metadata": {},
   "source": [
    "The Cloud Controller Manager is responsible for persistent storage, network routing, abstracting the cloud-specific code from the core Kubernetes specific code, and managing the communication with the underlying cloud services. It might be split out into several different containers depending on which cloud platform you are running on and then it enables the cloud vendors and Kubernetes code to be developed without any inter-dependency. So, the cloud vendor develops their code and connects with the Kubernetes cloud-controller-manager while running the Kubernetes."
   ]
  }
 ],
 "metadata": {
  "kernelspec": {
   "display_name": "Python 3 (ipykernel)",
   "language": "python",
   "name": "python3"
  },
  "language_info": {
   "codemirror_mode": {
    "name": "ipython",
    "version": 3
   },
   "file_extension": ".py",
   "mimetype": "text/x-python",
   "name": "python",
   "nbconvert_exporter": "python",
   "pygments_lexer": "ipython3",
   "version": "3.9.7"
  }
 },
 "nbformat": 4,
 "nbformat_minor": 5
}
