{
 "cells": [
  {
   "cell_type": "markdown",
   "id": "5a0f51b5",
   "metadata": {},
   "source": [
    "1.\tWhat is the difference between CI and CD?"
   ]
  },
  {
   "cell_type": "markdown",
   "id": "af766833",
   "metadata": {},
   "source": [
    "Continuous integration (CI) is a software engineering practice where members of a team integrate their work with increasing frequency. In keeping with CI practice, teams strive to integrate at least daily and even hourly, approaching integration that occurs “continuous-ly.”\n",
    "\n",
    "Continuous delivery (CD) is to packaging and deployment what CI is to build and test. Teams practicing CD can build, configure, and package software and orchestrate its deployment in such a way that it can be released to production in a software-defined manner (low cost, high automation) at any time."
   ]
  },
  {
   "cell_type": "markdown",
   "id": "ce521403",
   "metadata": {},
   "source": [
    "2.\tWhat is Configuration Management, and how does it work?"
   ]
  },
  {
   "cell_type": "markdown",
   "id": "c944fd36",
   "metadata": {},
   "source": [
    "Configuration management is a process for maintaining computer systems, servers, and software in a desired, consistent state. It's a way to make sure that a system performs as it's expected to as changes are made over time"
   ]
  },
  {
   "cell_type": "markdown",
   "id": "c0401d45",
   "metadata": {},
   "source": [
    "3.\tWhat is Ansible, and describe it’s working?"
   ]
  },
  {
   "cell_type": "markdown",
   "id": "47f02193",
   "metadata": {},
   "source": [
    "Ansible is an open sourceIT automation tool that automates provisioning, configuration management, application deployment, orchestration, and many other manual IT processes.\n",
    "\n",
    "Ansible works by connecting to your nodes and pushing out small programs, called modules to them. Modules are used to accomplish automation tasks in Ansible. These programs are written to be resource models of the desired state of the system. Ansible then executes these modules and removes them when finished."
   ]
  },
  {
   "cell_type": "markdown",
   "id": "5519c8b2",
   "metadata": {},
   "source": [
    "4.\tWhat distinguishes Ansible from other similar tools?"
   ]
  },
  {
   "cell_type": "markdown",
   "id": "be3a1bb8",
   "metadata": {},
   "source": [
    "Ansible can be considered an “all-in-one” tool: All automation steps can be done with Ansible. This is due to the fact that Ansible was developed in Python, and in addition to inheriting the general purpose language feature, you can make use of the thousands of existing packages from the Python community to create your own modules."
   ]
  },
  {
   "cell_type": "markdown",
   "id": "8ef40558",
   "metadata": {},
   "source": [
    "5.\tWhat is the purpose of the Ansible Galaxy?"
   ]
  },
  {
   "cell_type": "markdown",
   "id": "62639042",
   "metadata": {},
   "source": [
    "Ansible Galaxy is a repository for Ansible Roles that are available to drop directly into your Playbooks to streamline your automation projects."
   ]
  },
  {
   "cell_type": "markdown",
   "id": "1124cbb0",
   "metadata": {},
   "source": [
    "6.\tCan you go over the Ansible modules in detail?"
   ]
  },
  {
   "cell_type": "markdown",
   "id": "a5461311",
   "metadata": {},
   "source": [
    "Modules in Ansible are idempotent. From a RESTful service standpoint, for the operation to be idempotent, clients can perform the same result by using modules in Ansible. Multiple identical requests become a single request.\n",
    "\n",
    "There are two different types of modules in Ansible:\n",
    "\n",
    "Core modules\n",
    "Extras modules\n",
    "Core Modules\n",
    "\n",
    "The Ansible team maintains these types of modules, and they will always ship with Ansible software. They will also give higher priority for all requests than those in the “extras” repos.\n",
    "\n",
    "Extras Modules:\n",
    "\n",
    "These modules currently is bundled with Ansible but might available separately in the future. They are also mostly maintained by the Ansible community. These modules are still usable, but it can receive a lower rate of response to issues and pull requests."
   ]
  },
  {
   "cell_type": "markdown",
   "id": "986b2ee5",
   "metadata": {},
   "source": [
    "7.\tWhat is a YAML file, and how does Ansible use it?"
   ]
  },
  {
   "cell_type": "markdown",
   "id": "67a3878b",
   "metadata": {},
   "source": [
    "A playbook is a YAML file containing 1 or more plays, and is used to define the desired state of a system. Each play can run one or more tasks, and each task invokes an Ansible module. Modules are used to accomplish automation tasks in Ansible."
   ]
  },
  {
   "cell_type": "markdown",
   "id": "41ca3cd5",
   "metadata": {},
   "source": [
    "8.\tWhat are the different types of Ansible tasks?"
   ]
  },
  {
   "cell_type": "markdown",
   "id": "d0f22930",
   "metadata": {},
   "source": [
    "Below are some of the tasks\n",
    "\n",
    "Cloud management. \n",
    "User management. \n",
    "Networking.\n",
    "Security.\n",
    "Configuration management.\n",
    "Communication."
   ]
  },
  {
   "cell_type": "markdown",
   "id": "eddcbd48",
   "metadata": {},
   "source": [
    "9.\tWhat are the best ways to use YAML files in high-level programming languages like Java, Python, and others?"
   ]
  },
  {
   "cell_type": "markdown",
   "id": "8acf7e7c",
   "metadata": {},
   "source": [
    "YAML is supported in most programming languages and can be easily integrated with user programs.\n",
    "In JAVA we can use the Jackson module which also parses XML and JSON.\n",
    "In python similarly, we can use the pyyaml library and read and write easily in YAML format."
   ]
  },
  {
   "cell_type": "markdown",
   "id": "36e8ae31",
   "metadata": {},
   "source": [
    "10.\tHow to set up a jump host to access servers having no direct access?"
   ]
  },
  {
   "cell_type": "markdown",
   "id": "a4c9d369",
   "metadata": {},
   "source": [
    "The simplest way to connect to a target server via a jump host is using the -J flag from the command line. This tells ssh to make a connection to the jump host and then establish a TCP forwarding to the target server, from there (make sure you've Passwordless SSH Login between machines)."
   ]
  },
  {
   "cell_type": "markdown",
   "id": "c5be0fcb",
   "metadata": {},
   "source": [
    "11.\tHow can I use encrypted files to automate password entry in a playbook?"
   ]
  },
  {
   "cell_type": "markdown",
   "id": "f9613e57",
   "metadata": {},
   "source": [
    "ansible_ssh_common_args: '-o ProxyCommand=\"ssh -W %h:%p -q user@gateway.example.com\"'"
   ]
  },
  {
   "cell_type": "markdown",
   "id": "6dca670a",
   "metadata": {},
   "source": [
    "12.\tWhat are Ansible callback plugins?"
   ]
  },
  {
   "cell_type": "markdown",
   "id": "e7b2ee14",
   "metadata": {},
   "source": [
    "Callback plugins enable adding new behaviors to Ansible when responding to events. By default, callback plugins control most of the output you see when running the command line programs but can also be used to add additional output, integrate with other tools, and marshall the events to a storage backend."
   ]
  },
  {
   "cell_type": "markdown",
   "id": "616e449b",
   "metadata": {},
   "source": [
    "13.\tWhat is Ansible Inventory and what are the many types of it?"
   ]
  },
  {
   "cell_type": "markdown",
   "id": "09ae75ba",
   "metadata": {},
   "source": [
    "The Ansible inventory file defines the hosts and groups of hosts upon which commands, modules, and tasks in a playbook operate. There are 2 types of inventories -  Static and Dynamic"
   ]
  },
  {
   "cell_type": "markdown",
   "id": "4988c8ac",
   "metadata": {},
   "source": [
    "14.\tWhat is an Ansible Vault, exactly?"
   ]
  },
  {
   "cell_type": "markdown",
   "id": "0f63698e",
   "metadata": {},
   "source": [
    "Ansible Vault is a feature of ansible that allows you to keep sensitive data such as passwords or keys in encrypted files, rather than as plaintext in playbooks or roles. These vault files can then be distributed or placed in source control."
   ]
  }
 ],
 "metadata": {
  "kernelspec": {
   "display_name": "Python 3 (ipykernel)",
   "language": "python",
   "name": "python3"
  },
  "language_info": {
   "codemirror_mode": {
    "name": "ipython",
    "version": 3
   },
   "file_extension": ".py",
   "mimetype": "text/x-python",
   "name": "python",
   "nbconvert_exporter": "python",
   "pygments_lexer": "ipython3",
   "version": "3.9.7"
  }
 },
 "nbformat": 4,
 "nbformat_minor": 5
}
