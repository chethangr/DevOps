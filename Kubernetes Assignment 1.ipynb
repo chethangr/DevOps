{
 "cells": [
  {
   "cell_type": "markdown",
   "id": "0c04d826",
   "metadata": {},
   "source": [
    "1.\tWhat is a Kubernetes cluster?"
   ]
  },
  {
   "cell_type": "markdown",
   "id": "558834f6",
   "metadata": {},
   "source": [
    "A Kubernetes cluster is a set of node machines for running containerized applications."
   ]
  },
  {
   "cell_type": "markdown",
   "id": "e4c4759e",
   "metadata": {},
   "source": [
    "2.\tWhat are the different parts of the Kubernetes architecture?"
   ]
  },
  {
   "cell_type": "markdown",
   "id": "80cbf19e",
   "metadata": {},
   "source": [
    "The Control plane (master)\n",
    "\n",
    "kube-api server, \n",
    "\n",
    "kube scheduler, \n",
    "\n",
    "cloud-controller-manager \n",
    "\n",
    "Etcd.\n",
    "\n",
    "Kubelet.\n",
    "\n",
    "Kube-proxy.\n",
    "\n",
    "Kube-controller-manager."
   ]
  },
  {
   "cell_type": "markdown",
   "id": "7db8465c",
   "metadata": {},
   "source": [
    "3.\tWhat exactly do you mean by \"container orchestration\"?"
   ]
  },
  {
   "cell_type": "markdown",
   "id": "d75d76fb",
   "metadata": {},
   "source": [
    "Container orchestration is the automation of most of the operational effort required to run containerized workloads and services. This includes software teams need to manage a container's lifecycle,  provisioning, deployment, scaling (up & down), networking, load balancing."
   ]
  },
  {
   "cell_type": "markdown",
   "id": "639a6a1b",
   "metadata": {},
   "source": [
    "4.\tWhat are the various features of Kubernetes?"
   ]
  },
  {
   "cell_type": "markdown",
   "id": "84642930",
   "metadata": {},
   "source": [
    "Self-monitoring: Kubernetes checks constantly the health of nodes and containers. \n",
    "\n",
    "Horizontal scaling: Kubernetes allows you scaling resources not only vertically but also horizontally, easily and quickly. \n",
    "\n",
    "Storage orchestration: Kubernetes mounts and add storage system of your choice to run apps."
   ]
  },
  {
   "cell_type": "markdown",
   "id": "f6756bd7",
   "metadata": {},
   "source": [
    "5.\tExplain the relationship between Kubernetes and Docker?"
   ]
  },
  {
   "cell_type": "markdown",
   "id": "07d47016",
   "metadata": {},
   "source": [
    "Docker images are read-only templates used to build containers. Containers are deployed instances created from those templates. Images and containers are closely related, and are essential in powering the Docker software platform."
   ]
  }
 ],
 "metadata": {
  "kernelspec": {
   "display_name": "Python 3 (ipykernel)",
   "language": "python",
   "name": "python3"
  },
  "language_info": {
   "codemirror_mode": {
    "name": "ipython",
    "version": 3
   },
   "file_extension": ".py",
   "mimetype": "text/x-python",
   "name": "python",
   "nbconvert_exporter": "python",
   "pygments_lexer": "ipython3",
   "version": "3.9.7"
  }
 },
 "nbformat": 4,
 "nbformat_minor": 5
}
