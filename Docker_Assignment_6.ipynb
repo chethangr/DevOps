{
 "cells": [
  {
   "cell_type": "markdown",
   "id": "76cf989f",
   "metadata": {},
   "source": [
    "1.\tWhat is the .dockerignore file's purpose?"
   ]
  },
  {
   "cell_type": "markdown",
   "id": "dc77d973",
   "metadata": {},
   "source": [
    "The . dockerignore file allows you to exclude files from the context. It helps to make build faster and lighter by excluding from the context big files or repository that are not used in the build."
   ]
  },
  {
   "cell_type": "markdown",
   "id": "f48c9f93",
   "metadata": {},
   "source": [
    "2.\tHow necessary is it to create a cache in Docker?"
   ]
  },
  {
   "cell_type": "markdown",
   "id": "6bf9154b",
   "metadata": {},
   "source": [
    "If the objects on the file system that Docker is about to produce are unchanged between builds, reusing a cache of a previous build on the host is a great time-saver. It makes building a new container fast."
   ]
  },
  {
   "cell_type": "markdown",
   "id": "fc0c04a9",
   "metadata": {},
   "source": [
    "3.\tWhat is the significance of docker monitoring?"
   ]
  },
  {
   "cell_type": "markdown",
   "id": "99b3513c",
   "metadata": {},
   "source": [
    "When it comes to Docker containers, however, monitoring helps you to: Detect and solve issues early and proactively to avoid risks in production. Implement changes safely as the entire environment is monitored"
   ]
  },
  {
   "cell_type": "markdown",
   "id": "0bb490c7",
   "metadata": {},
   "source": [
    "4.\tDifferences between Windows and Hyper-V Containers/"
   ]
  },
  {
   "cell_type": "markdown",
   "id": "1eec8725",
   "metadata": {},
   "source": [
    "Hyper-V containers are still using Windows containers within the VM. The only difference is the Windows container is now running inside a Hyper-V VM which provides kernel isolation and separation of the host patch/version level from that used by the application."
   ]
  },
  {
   "cell_type": "markdown",
   "id": "849d9e46",
   "metadata": {},
   "source": [
    "5.\tHow do I use docker-compose to declare default environment variables?"
   ]
  },
  {
   "cell_type": "markdown",
   "id": "89382416",
   "metadata": {},
   "source": [
    "Substitute environment variables in Compose files. The “.env” file. Using the “--env-file” option.\n",
    "Set environment variables in containers.\n",
    "Pass environment variables to containers.\n",
    "The “env_file” configuration option.\n",
    "Set environment variables with 'docker-compose run'\n",
    "Configure Compose using environment variables."
   ]
  },
  {
   "cell_type": "markdown",
   "id": "e8be1016",
   "metadata": {},
   "source": [
    "6.\tWhat is the trusted registry for Docker?"
   ]
  },
  {
   "cell_type": "markdown",
   "id": "a1674812",
   "metadata": {},
   "source": [
    " It is an image storage solution to store and manage the Docker images securely. Docker Trusted Registry is available on-premises or private cloud. DTR can be used during CI/CD processes for building, delivering, and running applications. DTR is highly available, efficient and has built-in access control."
   ]
  },
  {
   "cell_type": "markdown",
   "id": "05090223",
   "metadata": {},
   "source": [
    "7.\tHow do you determine the version of the Docker client and server?"
   ]
  },
  {
   "cell_type": "markdown",
   "id": "de9690bc",
   "metadata": {},
   "source": [
    "Using the command - docker version --format '{{.Server.Version}}'"
   ]
  },
  {
   "cell_type": "markdown",
   "id": "5d7cdcdd",
   "metadata": {},
   "source": [
    "8.\tCan you tell the difference between the COPY and ADD commands in a Dockerfile?"
   ]
  },
  {
   "cell_type": "markdown",
   "id": "3ca4e86b",
   "metadata": {},
   "source": [
    "COPY takes in a src and destination. It only lets you copy in a local or directory from your host into the Docker image itself.\n",
    "\n",
    "COPY <src> <dest>\n",
    "    \n",
    "ADD  lets you do that too, but it also supports 2 other sources. First, you can use a URL instead of a local file/directory. Secondly, you can extract tar from the source directory into the destination.\n",
    "\n",
    "ADD <src> <dest>"
   ]
  },
  {
   "cell_type": "markdown",
   "id": "573ae18f",
   "metadata": {},
   "source": [
    "9.\tIs it possible for a container to restart on its own?"
   ]
  },
  {
   "cell_type": "markdown",
   "id": "9df2fe98",
   "metadata": {},
   "source": [
    "es, it is possible. Docker defines certain policies to restart the container. These are Off: container won't be restarted if it stops or fails,"
   ]
  },
  {
   "cell_type": "markdown",
   "id": "cafb7e2c",
   "metadata": {},
   "source": [
    "10.\tWhat is the volume parameter in a docker run command used for?"
   ]
  },
  {
   "cell_type": "markdown",
   "id": "ebb8fb78",
   "metadata": {},
   "source": [
    "The volume parameter syncs a directory in a container with a host directory."
   ]
  },
  {
   "cell_type": "code",
   "execution_count": null,
   "id": "11c7e250",
   "metadata": {},
   "outputs": [],
   "source": []
  }
 ],
 "metadata": {
  "kernelspec": {
   "display_name": "Python 3 (ipykernel)",
   "language": "python",
   "name": "python3"
  },
  "language_info": {
   "codemirror_mode": {
    "name": "ipython",
    "version": 3
   },
   "file_extension": ".py",
   "mimetype": "text/x-python",
   "name": "python",
   "nbconvert_exporter": "python",
   "pygments_lexer": "ipython3",
   "version": "3.9.7"
  }
 },
 "nbformat": 4,
 "nbformat_minor": 5
}
