{
 "cells": [
  {
   "cell_type": "markdown",
   "id": "654b4173",
   "metadata": {},
   "source": [
    "1.\tHow big can Docker containers get? Are there any prerequisites for this?"
   ]
  },
  {
   "cell_type": "markdown",
   "id": "42c67bc3",
   "metadata": {},
   "source": [
    "Containers can be scaled to hundreds of thousands or even millions of them running in parallel. Talking about requirements, containers require the memory and the OS at all the times and a way to use this memory efficiently when scaled"
   ]
  },
  {
   "cell_type": "markdown",
   "id": "4c3b39b7",
   "metadata": {},
   "source": [
    "2.\tWhat operating systems does Docker support?"
   ]
  },
  {
   "cell_type": "markdown",
   "id": "a8b9b14a",
   "metadata": {},
   "source": [
    "It runs on Windows (x86-64) and Linux (on x86-64, ARM, and other CPU architectures), s390x, ppc64le."
   ]
  },
  {
   "cell_type": "markdown",
   "id": "de5cf854",
   "metadata": {},
   "source": [
    "3.\tHow can I figure out what a Docker container's state is?"
   ]
  },
  {
   "cell_type": "markdown",
   "id": "7420d279",
   "metadata": {},
   "source": [
    "We can identify the status of a Docker container by running the command ‘docker ps –a’, which will in turn list down all the available docker containers with its corresponding statuses on the host. From there we can easily identify the container of interest to check its status correspondingly."
   ]
  },
  {
   "cell_type": "markdown",
   "id": "7870f0c0",
   "metadata": {},
   "source": [
    "4.\tHow do you unpause a Docker container?\n"
   ]
  },
  {
   "cell_type": "markdown",
   "id": "b1eb6f09",
   "metadata": {},
   "source": [
    "Using the command  docker container unpause CONTAINER [CONTAINER...]"
   ]
  },
  {
   "cell_type": "markdown",
   "id": "a43fb29c",
   "metadata": {},
   "source": [
    "5.\tIs it possible for a container to restart on its own?"
   ]
  },
  {
   "cell_type": "markdown",
   "id": "58693474",
   "metadata": {},
   "source": [
    "Yes, it is possible. Docker defines certain policies to restart the container. These are Off: container won't be restarted if it stops or fails,"
   ]
  },
  {
   "cell_type": "markdown",
   "id": "3d2e2e11",
   "metadata": {},
   "source": [
    "6.\tIs it better to use the RM command to delete the container or to stop it by removing it?"
   ]
  },
  {
   "cell_type": "markdown",
   "id": "71f12e0e",
   "metadata": {},
   "source": [
    "The best and the preferred way of removing containers from Docker is to use the ‘docker stop’, as it will allow sending a SIG_HUP signal to its recipients giving them the time that is required to perform all the finalization and cleanup tasks. Once this activity is completed, we can then comfortably remove the container using the ‘docker rm’ command from Docker and thereby updating the docker registry as well"
   ]
  },
  {
   "cell_type": "markdown",
   "id": "bba68186",
   "metadata": {},
   "source": [
    "7.\tIs it a smart idea to use Docker to run stateful applications?"
   ]
  },
  {
   "cell_type": "markdown",
   "id": "d0c68a4a",
   "metadata": {},
   "source": [
    "No, the problem with statefull docker aplications is that they by default store their data in the containers filesystem. Once you update your software version or want to move to another machine its hard to retrieve the data from there."
   ]
  },
  {
   "cell_type": "markdown",
   "id": "6f3bebfd",
   "metadata": {},
   "source": [
    "8.\tWill cloud overtake the concept of containerization?"
   ]
  },
  {
   "cell_type": "markdown",
   "id": "0c0bc6ee",
   "metadata": {},
   "source": [
    "In this type of question, you can give your personal opinion. For example, as per my understanding, although the cloud is a good competitor, it cannot replace containerization. Most companies are using cloud and containerization in tandem to get the best out of both technologies."
   ]
  },
  {
   "cell_type": "markdown",
   "id": "61f3920c",
   "metadata": {},
   "source": [
    "9.\tHow do you load a pre-exported Docker image onto another Docker host using a command?"
   ]
  },
  {
   "cell_type": "markdown",
   "id": "483d6642",
   "metadata": {},
   "source": [
    "We can upload an image through the docker push command, and others can pull the image using the docker pull command."
   ]
  }
 ],
 "metadata": {
  "kernelspec": {
   "display_name": "Python 3 (ipykernel)",
   "language": "python",
   "name": "python3"
  },
  "language_info": {
   "codemirror_mode": {
    "name": "ipython",
    "version": 3
   },
   "file_extension": ".py",
   "mimetype": "text/x-python",
   "name": "python",
   "nbconvert_exporter": "python",
   "pygments_lexer": "ipython3",
   "version": "3.9.7"
  }
 },
 "nbformat": 4,
 "nbformat_minor": 5
}
