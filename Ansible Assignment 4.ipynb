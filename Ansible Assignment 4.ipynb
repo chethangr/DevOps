{
 "cells": [
  {
   "cell_type": "markdown",
   "id": "68ec005a",
   "metadata": {},
   "source": [
    "1.\tDescribe the Ansible register."
   ]
  },
  {
   "cell_type": "markdown",
   "id": "d4e18d0d",
   "metadata": {},
   "source": [
    "Ansible register is a way to capture the output from task execution and store it in a variable. This is an important feature, as this output is different for each remote host, and the basis on that we can use conditions loops to do some other tasks."
   ]
  },
  {
   "cell_type": "markdown",
   "id": "0686071d",
   "metadata": {},
   "source": [
    "2.\tIn Ansible, how can we delegate tasks?"
   ]
  },
  {
   "cell_type": "markdown",
   "id": "309479ad",
   "metadata": {},
   "source": [
    "With the help of Delegate_to module the tasks can be delegated in Ansible."
   ]
  },
  {
   "cell_type": "markdown",
   "id": "5d210d8c",
   "metadata": {},
   "source": [
    "3.\tWhat is the best way to install Ansible on a CentOS system?"
   ]
  },
  {
   "cell_type": "markdown",
   "id": "e9afe872",
   "metadata": {},
   "source": [
    "#### 1.Set up EPEL Repository\n",
    "\n",
    "EPEL is an open source and free community-based repository project from Fedora team which provides high-quality add-on software packages for Linux distribution including RHEL, CentOS, and Scientific Linux.\n",
    "\n",
    "The Ansible package is not available in the default yum repositories, so we will enable EPEL repository by using the below command:\n",
    "\n",
    "sudo rpm -ivh http://dl.fedoraproject.org/pub/epel/6/i386/epel-release-6-8.noarch.rpm\n",
    "\n",
    "This will download all the necessary packages which will be required to install Ansible.\n",
    "\n",
    "#### 2: Install Ansible with the below command\n",
    "\n",
    "yum install ansible -y\n",
    "\n",
    "Once installed we can check the version using the command : ansible –version"
   ]
  },
  {
   "cell_type": "markdown",
   "id": "7a3e172b",
   "metadata": {},
   "source": [
    "4. What is Ansible and how does it differ from other Configuration Management software?"
   ]
  },
  {
   "cell_type": "markdown",
   "id": "53216e08",
   "metadata": {},
   "source": [
    "Ansible is an open source IT Configuration Management, Deployment & Orchestration tool. It aims to provide large productivity gains to a wide variety of automation challenges.\n",
    "\n",
    "Below are the features that makes Ansible such an effective Configuration Management and Automation tool:\n",
    "\n",
    "Simple: Uses a simple syntax written in YAML called playbooks.\n",
    "Agentless: No agents/software or additional firewall ports that you need to install on the client systems or hosts which you want to automate.\n",
    "Powerful and Flexible: Ansible’s capabilities allow you to orchestrate the entire application environment regardless of where it is deployed.\n",
    "Efficient: Ansible introduces modules as basic building blocks for your software. So, you can even customize it as per your needs."
   ]
  },
  {
   "cell_type": "markdown",
   "id": "4965c783",
   "metadata": {},
   "source": [
    "5.\tWhat are the various parts of ansible? Describe the architecture of Ansible."
   ]
  },
  {
   "cell_type": "markdown",
   "id": "68b71631",
   "metadata": {},
   "source": [
    "The main component of Ansible is the Ansible automation engine. This engine directly interacts with various cloud services, Configuration Management Database (CMBD) and different users who write various playbooks to execute the Ansible Automation engine.\n",
    "\n",
    "The Ansible Automation engine consists of the following components:\n",
    "\n",
    "Inventories: These are a list of nodes containing their respective IP addresses, servers, databases, etc. which needs to be managed.\n",
    "\n",
    "APIs: Just like any other API, the Ansible APIs are used for commuting various Cloud services, public or private services.\n",
    "\n",
    "Modules: The modules are used to manage system resources, packages, libraries, files, etc. Ansible modules can be used to automate a wide range of tasks. Ansible provides around 450 modules that automate nearly every part of your environment.\n",
    "\n",
    "Plugins: If you want to execute Ansible tasks as a job, Ansible Plugins can be used. They simplify the execution of a task by building a job like an environment that basically contains pieces of code corresponding to some specific functionality. There are 100s of Plugins provided by Ansible. An example is the Action plugin, which acts as front ends to modules and can execute tasks on the controller before calling the modules themselves.\n",
    "\n",
    "Networking: Ansible can also be used to automate different networks and services. It can do this by creating a playbook or an Ansible role that easily spans different network hardware.\n",
    "\n",
    "Hosts: The Ansible Hosts/ Node systems are machines (Linux, Windows, etc) that are getting automated.\n",
    "\n",
    "Playbooks: Playbooks are simple code files which describe the tasks that need to be executed. The Playbooks are written in YAML format. They can be used to automate tasks, declare configurations, etc.\n",
    "\n",
    "CMDB: It is a database that acts as a storehouse for various IT installations. It holds data about various IT assets (also known as configuration items (CI)) and describes the relationships between such assets.\n",
    "\n",
    "Cloud: It is a network of remote servers hosted on the Internet to store, manage, and process data, rather than a local server."
   ]
  },
  {
   "cell_type": "markdown",
   "id": "e363aaeb",
   "metadata": {},
   "source": [
    "6.\tWhat are the requirements for Ansible Server?"
   ]
  },
  {
   "cell_type": "markdown",
   "id": "8346c0dd",
   "metadata": {},
   "source": [
    "If you are a windows user then you need to have a virtual machine in which Linux should be installed. It requires Python 2.6 version or higher. you fulfill these requirements and you’re good to go!"
   ]
  },
  {
   "cell_type": "markdown",
   "id": "c68f9861",
   "metadata": {},
   "source": [
    "7.\tDescribe a handful of Ansible's basic terms and concepts."
   ]
  },
  {
   "cell_type": "markdown",
   "id": "7cd4818a",
   "metadata": {},
   "source": [
    "Few of the basic terms that are commonly used while operating on Ansible are:\n",
    "\n",
    "Controller Machine: The Controller machine is responsible for provisioning the servers that are being managed. It is the machine where Ansible is installed.\n",
    "\n",
    "Inventory: An inventory is an initialization file that has details about the different servers you are managing.\n",
    "\n",
    "Playbook: It is a code file written in the YAML format. A playbook basically contains the tasks that need to be executed or automated.\n",
    "\n",
    "Task: Each task represents a single procedure that needs to be executed, e.g. Install a library.\n",
    "\n",
    "Module: A module is a set of tasks that can be executed. Ansible has 100s of built-in modules, but you can also create custom ones.\n",
    "\n",
    "Role: An Ansible role is a pre-defined way for organizing playbooks and other files in order to facilitate sharing and reusing portions of provisioning.\n",
    "\n",
    "Play: A task executed from start to finish or the execution of a playbook is called a play.\n",
    "\n",
    "Facts: Facts are global variables that store details about the system, like network interfaces or operating system.\n",
    "\n",
    "Handlers: Are used to trigger the status of a service, such as restarting or stopping a service.\n",
    "\n"
   ]
  },
  {
   "cell_type": "markdown",
   "id": "83da8cc2",
   "metadata": {},
   "source": [
    "8.\tDescribe the Infrastructure as Code idea (IaC)."
   ]
  },
  {
   "cell_type": "markdown",
   "id": "8e783817",
   "metadata": {},
   "source": [
    "Infrastructure as Code (IaC) is a process for managing and operating data servers, storage systems, system configurations, and network infrastructure.\n",
    "\n",
    "In traditional configuration management practices, each minute configuration change required manual action by system administrators and the IT support team. But with IaC, all the configuration details are managed and stored in a standardized file system, wherein the system automatically manages infrastructure changes and deals with system configurations."
   ]
  },
  {
   "cell_type": "markdown",
   "id": "807c1314",
   "metadata": {},
   "source": [
    "9.\tWhat do you mean by ad-hoc commands? Give a specific example."
   ]
  },
  {
   "cell_type": "markdown",
   "id": "dd286af9",
   "metadata": {},
   "source": [
    "Ad-hoc commands are simple one-line commands used to perform a certain task. You can think of Adhoc commands as an alternative to writing playbooks. An example of an Adhoc command is as follows:\n",
    "\n",
    "ansible host -m netscaler -a \"nsc_host=nsc.example.com user=apiuser password=apipass\"\n",
    "\n",
    "The above Adhoc command accesses the netscaler module to disable the server."
   ]
  },
  {
   "cell_type": "markdown",
   "id": "1cfef3d8",
   "metadata": {},
   "source": [
    "10.\tIn Ansible, what are the variables?"
   ]
  },
  {
   "cell_type": "markdown",
   "id": "6d811b7b",
   "metadata": {},
   "source": [
    "Variables in Ansible are very similar to variables in any programming language. Just like any other variable, an Ansible variable is assigned a value which is used in computing playbooks. You can also use conditions around the variables. Here’s an example:\n",
    "\n",
    "- hosts: your hosts\n",
    "vars:\n",
    "port_Tomcat : 8080\n",
    "Here called port_Tomcat is a variable and assigned the port number 8080 to it."
   ]
  },
  {
   "cell_type": "markdown",
   "id": "b37fa9f4",
   "metadata": {},
   "source": [
    "11. What is the difference between a variable name and a variable that is part of the environment?"
   ]
  },
  {
   "cell_type": "markdown",
   "id": "3561f86c",
   "metadata": {},
   "source": [
    "You need to add strings to create variable names\n",
    "You can easily create multiple variable names by adding strings\n",
    "We use the ipv4 address for variable names\n",
    "\n",
    "You need existing variables to access environment variables.\n",
    "To create environment variables we must refer advanced Ansible playbook\n",
    "We use {{ ansible_env.SOME_VARIABLE }} for remote environment variables."
   ]
  },
  {
   "cell_type": "markdown",
   "id": "41851675",
   "metadata": {},
   "source": [
    "12. What are the Ansible Modules, and what do they do? Describe its various types."
   ]
  },
  {
   "cell_type": "markdown",
   "id": "9294be3b",
   "metadata": {},
   "source": [
    "Ansible modules are a small set of programs that perform a specific task. Modules can be used to automate a wide range of tasks. Modules in Ansible are considered to be idempotent or in other words, making multiple identical requests has the same effect as making a single request.\n",
    "\n",
    "There are 2 types of modules in Ansible:\n",
    "\n",
    "Core Modules :These are modules that the core Ansible team maintains and will always ship with Ansible itself. They will also receive a slightly higher priority for all requests than those in the “extras” repos. The source of these modules is hosted by Ansible on GitHub in the Ansible-modules-core.\n",
    "\n",
    "Extras Modules: These modules are currently shipped with Ansible but might be shipped separately in the future. They are also mostly maintained by the Ansible Community. Non-core modules are still fully usable but may receive slightly lower response rates for issues and pull requests."
   ]
  },
  {
   "cell_type": "markdown",
   "id": "146f9416",
   "metadata": {},
   "source": [
    "13. What is an Ansible Task, exactly?"
   ]
  },
  {
   "cell_type": "markdown",
   "id": "936318de",
   "metadata": {},
   "source": [
    "Ansible Tasks allow you to break up bits of configuration policy into smaller files. These are blocks of code that can be used to automate any process."
   ]
  }
 ],
 "metadata": {
  "kernelspec": {
   "display_name": "Python 3 (ipykernel)",
   "language": "python",
   "name": "python3"
  },
  "language_info": {
   "codemirror_mode": {
    "name": "ipython",
    "version": 3
   },
   "file_extension": ".py",
   "mimetype": "text/x-python",
   "name": "python",
   "nbconvert_exporter": "python",
   "pygments_lexer": "ipython3",
   "version": "3.9.7"
  }
 },
 "nbformat": 4,
 "nbformat_minor": 5
}
