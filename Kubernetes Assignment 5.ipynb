{
 "cells": [
  {
   "cell_type": "markdown",
   "id": "a4e3f10b",
   "metadata": {},
   "source": [
    "1.\tHow well do you understand Kube-proxy?"
   ]
  },
  {
   "cell_type": "markdown",
   "id": "eabd0e9e",
   "metadata": {},
   "source": [
    "The Kubernetes network proxy is a daemon running on each node. It basically reflects the services defined in the cluster and manages the rules to load-balance requests to a service's backend pods"
   ]
  },
  {
   "cell_type": "markdown",
   "id": "0b724363",
   "metadata": {},
   "source": [
    "2.\tWhat does Kubernetes controller manager imply?"
   ]
  },
  {
   "cell_type": "markdown",
   "id": "134b57a2",
   "metadata": {},
   "source": [
    "The Cloud Controller Manager is responsible for persistent storage, network routing, abstracting the cloud-specific code from the core Kubernetes specific code, and managing the communication with the underlying cloud services. It might be split out into several different containers depending on which cloud platform you are running on and then it enables the cloud vendors and Kubernetes code to be developed without any inter-dependency. So, the cloud vendor develops their code and connects with the Kubernetes cloud-controller-manager while running the Kubernetes."
   ]
  },
  {
   "cell_type": "markdown",
   "id": "914c1037",
   "metadata": {},
   "source": [
    "3.\tWhat exactly do you mean by ETCD?"
   ]
  },
  {
   "cell_type": "markdown",
   "id": "c5eacf14",
   "metadata": {},
   "source": [
    "etcd is an open source, distributed, consistent key-value store for shared configuration, service discovery, and scheduler coordination of distributed systems or clusters of machines."
   ]
  },
  {
   "cell_type": "markdown",
   "id": "dee59027",
   "metadata": {},
   "source": [
    "4.\tWhat does \"control resource monitoring\" imply?"
   ]
  },
  {
   "cell_type": "markdown",
   "id": "4f18bdcd",
   "metadata": {},
   "source": [
    "Use namespaces and resource quotas.\n",
    "\n",
    "Use limit ranges.\n",
    "\n",
    "Set network policies.\n",
    "\n",
    "Don't forget about storage when applicable.\n",
    "\n",
    "Keep things tidy: API objects and monitoring."
   ]
  },
  {
   "cell_type": "markdown",
   "id": "90816dac",
   "metadata": {},
   "source": [
    "5.\tWhat are federated clusters and how do they work?"
   ]
  },
  {
   "cell_type": "markdown",
   "id": "6fd706be",
   "metadata": {},
   "source": [
    "Kubernetes Cluster Federation allows you to coordinate the configuration of multiple Kubernetes clusters from a single set of APIs in a hosting cluster. KubeFed aims to provide mechanisms for expressing which clusters should have their configuration managed and what that configuration should be."
   ]
  },
  {
   "cell_type": "code",
   "execution_count": null,
   "id": "54b8fec2",
   "metadata": {},
   "outputs": [],
   "source": []
  }
 ],
 "metadata": {
  "kernelspec": {
   "display_name": "Python 3 (ipykernel)",
   "language": "python",
   "name": "python3"
  },
  "language_info": {
   "codemirror_mode": {
    "name": "ipython",
    "version": 3
   },
   "file_extension": ".py",
   "mimetype": "text/x-python",
   "name": "python",
   "nbconvert_exporter": "python",
   "pygments_lexer": "ipython3",
   "version": "3.9.7"
  }
 },
 "nbformat": 4,
 "nbformat_minor": 5
}
