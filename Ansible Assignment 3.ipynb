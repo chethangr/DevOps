{
 "cells": [
  {
   "cell_type": "markdown",
   "id": "1a9e700c",
   "metadata": {},
   "source": [
    "1. Could you construct a simple playbook to install Nginx on a server?"
   ]
  },
  {
   "cell_type": "markdown",
   "id": "7ea365ca",
   "metadata": {},
   "source": [
    "- hosts: stagingwebservers\n",
    " gather_facts: False\n",
    " vars:\n",
    "  - server_port: 8080\n",
    " tasks:\n",
    "  - name: install nginx\n",
    "    apt: pkg=nginx state=installed update_cache=true\n",
    "  - name: serve nginx config\n",
    "     template: src=../files/flask.conf dest=/etc/nginx/conf.d/\n",
    "     notify:\n",
    "     - restart nginx\n",
    " handlers:\n",
    "   - name: restart nginx\n",
    "     service: name=nginx state=restarted\n",
    "   - name: restart flask app\n",
    "     service: name=flask-demo state=restarted\n",
    "            \n",
    "            \n",
    "After executing the above playbook we can verify whether Nginx is installed or not.\n",
    "\n",
    "ps waux | grep nginx"
   ]
  },
  {
   "cell_type": "markdown",
   "id": "48229d18",
   "metadata": {},
   "source": [
    "2. What is the significance of the \" notation? And how may variables or dynamic variable names be interpolated?"
   ]
  },
  {
   "cell_type": "markdown",
   "id": "9bd22f30",
   "metadata": {},
   "source": [
    "One basic rule is to ‘always use {{}} except when:’. Conditionals are always run through Jinja2 as to resolve the expression. Therefore, ‘when:failed_when:’ and ‘changed_when:’ are always templated and we should avoid adding {{}}.\n",
    "In other cases, except when clause, we have to use brackets, otherwise, differentiating between an undefined variable and a string will be difficult to do."
   ]
  },
  {
   "cell_type": "markdown",
   "id": "c3dd4efd",
   "metadata": {},
   "source": [
    "3. What is the difference between an Ansible role and a playbook role?"
   ]
  },
  {
   "cell_type": "markdown",
   "id": "23701073",
   "metadata": {},
   "source": [
    "Role is a set of tasks and additional files to configure host to serve for a certain role. Playbook is a mapping between hosts and roles."
   ]
  },
  {
   "cell_type": "markdown",
   "id": "8d719e06",
   "metadata": {},
   "source": [
    "4. How can I write a multi-task Ansible handler in Ansible?"
   ]
  },
  {
   "cell_type": "markdown",
   "id": "6e9d4cf6",
   "metadata": {},
   "source": [
    "Handlers can “listen” to generic topics, and tasks can notify those topics as shown below. This functionality makes it much easier to trigger multiple handlers. It also decouples handlers from their names, making it easier to share handlers among playbooks and roles:\n",
    "\n",
    "- name: Check if restarted\n",
    "shell: check_is_started.sh\n",
    "register: result\n",
    "listen: Restart processes\n",
    " \n",
    "- name: Restart conditionally step 2\n",
    "service: name=service state=restarted\n",
    "when: result\n",
    "listen: Restart processes"
   ]
  },
  {
   "cell_type": "markdown",
   "id": "4e116ba0",
   "metadata": {},
   "source": [
    "5. What are Ansible Vaults and how do you use them?"
   ]
  },
  {
   "cell_type": "markdown",
   "id": "332e38b7",
   "metadata": {},
   "source": [
    "Ansible Vault is a feature that allows you to keep all your secrets safe. It can encrypt entire files, entire YAML playbooks or even a few variables. It provides a facility where you can not only encrypt sensitive data but also integrate them into your playbooks.\n",
    "\n",
    "Vault is implemented with file-level granularity where the files are either entirely encrypted or entirely unencrypted. It uses the same password for encrypting as well as for decrypting files which makes using Ansible Vault very user-friendly"
   ]
  },
  {
   "cell_type": "markdown",
   "id": "66ce493c",
   "metadata": {},
   "source": [
    "6. How can I use Ansible to create encrypted files?"
   ]
  },
  {
   "cell_type": "markdown",
   "id": "f7a3ec53",
   "metadata": {},
   "source": [
    "To create an encrypted file, use the ‘ansible-vault create’ command and pass the filename.\n",
    "\n",
    "$ ansible-vault create filename.yaml\n",
    "\n",
    "You’ll be prompted to create a password and then confirm it by re-typing it.\n",
    "\n",
    "Once your password is confirmed, a new file will be created and will open an editing window. By default, the editor for Ansible Vault is vi. You can add data, save and exit.\n",
    "\n"
   ]
  },
  {
   "cell_type": "markdown",
   "id": "ef252b4f",
   "metadata": {},
   "source": [
    "7. What is Ansible Tower, exactly?"
   ]
  },
  {
   "cell_type": "markdown",
   "id": "e4088405",
   "metadata": {},
   "source": [
    "Ansible Tower is Ansible at a more enterprise level. It is a web-based solution for managing your organization with a very easy user interface that provides a dashboard with all of the state summaries of all the hosts, allows quick deployments, and monitors all configurations."
   ]
  },
  {
   "cell_type": "markdown",
   "id": "6fcfb26a",
   "metadata": {},
   "source": [
    "8. What are the benefits of the Ansible Tower?"
   ]
  },
  {
   "cell_type": "markdown",
   "id": "e1b2edde",
   "metadata": {},
   "source": [
    "Ansible Tower allows you to control access to who can access what, even allowing sharing of SSH credentials without someone being able to transfer those credentials. Inventory can be graphically managed or synced with a wide variety of cloud sources.\n",
    "\n",
    "Below are some benefits of Ansible Tower\n",
    "\n",
    "1. Support of Cluster Environment\n",
    "2. Credentials Storing & using in a Smart Manner\n",
    "3. CI/CD Workflow Support\n",
    "4. Job Scheduling and Notification Support\n",
    "5. Working on a Team \n"
   ]
  },
  {
   "cell_type": "markdown",
   "id": "f80238cc",
   "metadata": {},
   "source": [
    "9. What is the role of Ansible in the Continuous Delivery pipeline? Explain."
   ]
  },
  {
   "cell_type": "markdown",
   "id": "3fa37903",
   "metadata": {},
   "source": [
    "It is well known that in DevOps development and operations work is integrated. This integration is very important for modern test-driven applications. Hence, Ansible integrates this by providing a stable environment to both development and operations resulting in a smooth delivery pipeline. \n",
    "\n",
    "When developers begin to think of infrastructure as part of their application i.e as Infrastructure as code (IaC), stability and performance become normative. Infrastructure as Code is the process of managing and provisioning computing infrastructure and their configuration through machine-processable definition files, rather than physical hardware configuration or the use of interactive configuration tools. This is where Ansible automation plays a major role and stands out among its peers.\n",
    "\n",
    "In a Continuous Delivery pipeline, Sysadmins work tightly with developers, development velocity is improved, and more time is spent doing activities like performance tuning, experimenting, and getting things done, and less time is spent fixing problems."
   ]
  },
  {
   "cell_type": "markdown",
   "id": "0dc76323",
   "metadata": {},
   "source": [
    "10. Using Ansible, how do you build a LAMP stack and deploy a webpage?"
   ]
  },
  {
   "cell_type": "markdown",
   "id": "5ce07d43",
   "metadata": {},
   "source": [
    "Suppose you’re trying to deploy a website on multiple systems, every website deployment will require a base OS, web-server, Database, and PHP. We use ansible playbook to install these prerequisites on all the systems at once.\n",
    "\n",
    "We can use two virtual machines, one as a server where Ansible is installed and the other machine acts as the remote host.\n",
    "\n",
    "Below Ansible playbook has the code to install Apache, MySql, and PHP:\n",
    "\n",
    "\n",
    "#### Setup LAMP Stack\n",
    "-  hosts: host1\n",
    "   tasks:\n",
    " \n",
    "      -  name: Add ppa repository\n",
    "         become: yes\n",
    "         apt_repository: repo=ppa:ondrej/php\n",
    " \n",
    "      -  name: Install lamp stack\n",
    "         become: yes\n",
    "         apt:\n",
    "            pkg:\n",
    "              - apache2   \n",
    "              - mysql-server\n",
    "              - php7.0\n",
    "              - php7.0-mysql   \n",
    "            state: present\n",
    "            update cache: yes\n",
    " \n",
    "      -  name: start apache server\n",
    "          become: yes\n",
    "          service: \n",
    "              name: apache2\n",
    "               state: started\n",
    "                enabled: yes\n",
    " \n",
    "      -  name: start mysql service\n",
    "          become: yes\n",
    "          services:\n",
    "             name: mysql\n",
    "             state: started\n",
    "             enabled: yes\n",
    " \n",
    "      -  name:  create target directory\n",
    "          file: path=/var/www/html state=directory mode=0755\n",
    " \n",
    "      - name:  deploy index.html\n",
    "         became: yes\n",
    "          copy: \n",
    "              src: /etc/ansible/index/index.html\n",
    "              dest: var/www/html/index/index.html\n",
    "                \n",
    "Now, there are 6 main tasks, each task performs a specific function:\n",
    "    \n",
    "The first task adds the repository required to install MySQL and PHP.\n",
    "The second task installs apache2, MySQL-server, PHP, and PHP-MySQL.\n",
    "The third and fourth task starts the Apache and MySQL service.\n",
    "The fifth task creates a target directory in the host machine and\n",
    "Finally, the sixth task executes the index.html file, it picks up the file from the server machine and copies it into the host machine.\n",
    "To finally run this playbook the following command can be used:\n",
    "\n",
    "$ ansible-playbook lamp.yml -K"
   ]
  }
 ],
 "metadata": {
  "kernelspec": {
   "display_name": "Python 3 (ipykernel)",
   "language": "python",
   "name": "python3"
  },
  "language_info": {
   "codemirror_mode": {
    "name": "ipython",
    "version": 3
   },
   "file_extension": ".py",
   "mimetype": "text/x-python",
   "name": "python",
   "nbconvert_exporter": "python",
   "pygments_lexer": "ipython3",
   "version": "3.9.7"
  }
 },
 "nbformat": 4,
 "nbformat_minor": 5
}
