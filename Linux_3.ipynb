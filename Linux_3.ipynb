{
 "cells": [
  {
   "cell_type": "code",
   "execution_count": null,
   "id": "c0a5fefc",
   "metadata": {},
   "outputs": [],
   "source": [
    "1.\tWhat is tar command?  Why is it used?"
   ]
  },
  {
   "cell_type": "markdown",
   "id": "96a2912a",
   "metadata": {},
   "source": [
    "The Linux 'tar' stands for tape archive, is used to create Archive and extract the Archive files.\n",
    "\n",
    "The tar command is used to rip a collection of files and directories into a highly compressed archive file commonly called tarball or tar, gzip and bzip in Linux."
   ]
  },
  {
   "cell_type": "code",
   "execution_count": null,
   "id": "241618ab",
   "metadata": {},
   "outputs": [],
   "source": [
    "2.\tExplain Regular Expressions and Grep"
   ]
  },
  {
   "cell_type": "markdown",
   "id": "72485c25",
   "metadata": {},
   "source": [
    "the grep command within a Linux or Unix-based system to perform text searches for a defined criteria of words or strings.\n",
    "\n",
    "A regular expression(regex) is defined as a pattern that defines a class of strings. Given a string, we can then test if the string belongs to this class of patterns."
   ]
  },
  {
   "cell_type": "code",
   "execution_count": null,
   "id": "2ace6b56",
   "metadata": {},
   "outputs": [],
   "source": [
    "3.\tWhat is the minimum number of disk partitions required to install Linux?"
   ]
  },
  {
   "cell_type": "markdown",
   "id": "eb8af6c6",
   "metadata": {},
   "source": [
    "One partition"
   ]
  },
  {
   "cell_type": "code",
   "execution_count": null,
   "id": "33a84e60",
   "metadata": {},
   "outputs": [],
   "source": [
    "4.\tHow to copy a file in Linux?"
   ]
  },
  {
   "cell_type": "markdown",
   "id": "cd881432",
   "metadata": {},
   "source": [
    "Specify cp followed by the name of a file to copy"
   ]
  },
  {
   "cell_type": "code",
   "execution_count": null,
   "id": "f7ed0357",
   "metadata": {},
   "outputs": [],
   "source": [
    "5.\tHow to terminate a running process in Linux?"
   ]
  },
  {
   "cell_type": "markdown",
   "id": "dd16c361",
   "metadata": {},
   "source": [
    "Kill followed by the process id"
   ]
  },
  {
   "cell_type": "code",
   "execution_count": null,
   "id": "78d7babc",
   "metadata": {},
   "outputs": [],
   "source": [
    "6.\tHow to rename a file in Linux?"
   ]
  },
  {
   "cell_type": "markdown",
   "id": "a162f907",
   "metadata": {},
   "source": [
    "mv followed by old_file_name new_file_name"
   ]
  },
  {
   "cell_type": "code",
   "execution_count": null,
   "id": "19bc4025",
   "metadata": {},
   "outputs": [],
   "source": [
    "7.\tHow to write the output of a command to a file?"
   ]
  },
  {
   "cell_type": "markdown",
   "id": "1879d19f",
   "metadata": {},
   "source": [
    "Type the command, specify the > or >> operator and then mention the file path. "
   ]
  },
  {
   "cell_type": "code",
   "execution_count": null,
   "id": "dc85973f",
   "metadata": {},
   "outputs": [],
   "source": [
    "8.\tHow to see the list of mounted devices on Linux?"
   ]
  },
  {
   "cell_type": "markdown",
   "id": "bb31d3a4",
   "metadata": {},
   "source": [
    "Using the command findmnt"
   ]
  },
  {
   "cell_type": "code",
   "execution_count": null,
   "id": "ccaed8b7",
   "metadata": {},
   "outputs": [],
   "source": [
    "9.\tHow to find where a file is stored in Linux?"
   ]
  },
  {
   "cell_type": "markdown",
   "id": "1925bd75",
   "metadata": {},
   "source": [
    "By using the  find command."
   ]
  },
  {
   "cell_type": "code",
   "execution_count": null,
   "id": "e58564c3",
   "metadata": {},
   "outputs": [],
   "source": [
    "10.\tHow to find the difference between two configuration files?"
   ]
  },
  {
   "cell_type": "markdown",
   "id": "7b589926",
   "metadata": {},
   "source": [
    "diff file_1 file_2"
   ]
  },
  {
   "cell_type": "code",
   "execution_count": null,
   "id": "000c5ed5",
   "metadata": {},
   "outputs": [],
   "source": []
  }
 ],
 "metadata": {
  "kernelspec": {
   "display_name": "Python 3 (ipykernel)",
   "language": "python",
   "name": "python3"
  },
  "language_info": {
   "codemirror_mode": {
    "name": "ipython",
    "version": 3
   },
   "file_extension": ".py",
   "mimetype": "text/x-python",
   "name": "python",
   "nbconvert_exporter": "python",
   "pygments_lexer": "ipython3",
   "version": "3.9.7"
  }
 },
 "nbformat": 4,
 "nbformat_minor": 5
}
