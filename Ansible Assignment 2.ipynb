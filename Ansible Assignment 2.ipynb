{
 "cells": [
  {
   "cell_type": "markdown",
   "id": "a420caea",
   "metadata": {},
   "source": [
    "1.\tHow can a list of hosts in a group be looped over within a template?"
   ]
  },
  {
   "cell_type": "markdown",
   "id": "ac2b135b",
   "metadata": {},
   "source": [
    "This can be done by accessing the “$groups” dictionary in the template, like so:\n",
    "\n",
    "{% for host in groups['db_servers'] %}\n",
    "{{ host }}\n",
    "{% endfor %}\n",
    "If we need to access facts also we need to make sure that the facts have been populated. For instance, a play that talks to db_servers:\n",
    "\n",
    "- hosts: db_servers\n",
    "tasks:\n",
    "- debug: msg=\"Something to debug\"\n",
    "Now, this can be used within a template, like so:\n",
    "\n",
    "{% for host in groups['db_servers'] %}\n",
    "{{ hostvars[host]['ansible_eth0']['ipv4']['address'] }}\n",
    "{% endfor %}.\n"
   ]
  },
  {
   "cell_type": "markdown",
   "id": "523a03cb",
   "metadata": {},
   "source": [
    "2.\tWhat is Ansible's ad-hoc command?"
   ]
  },
  {
   "cell_type": "markdown",
   "id": "9d070924",
   "metadata": {},
   "source": [
    "Ad hoc commands are commands which can be run individually to perform quick functions. These commands need not be performed later. For example, you have to reboot all your company servers. For this, you will run the Adhoc commands from '/usr/bin/ansible'."
   ]
  },
  {
   "cell_type": "markdown",
   "id": "fbc32ae0",
   "metadata": {},
   "source": [
    "3.\tHow do I set up Nginx using the Ansible playbook?"
   ]
  },
  {
   "cell_type": "markdown",
   "id": "967dca0d",
   "metadata": {},
   "source": [
    "---\n",
    "- hosts: all\n",
    "  tasks:\n",
    "    - name: ensure nginx is at the latest version\n",
    "      apt: name=nginx state=latest\n",
    "      become: yes\n",
    "    - name: start nginx\n",
    "      service:\n",
    "          name: nginx\n",
    "          state: started\n",
    "      become: yes\n",
    "    - name: copy the nginx config file and restart nginx\n",
    "      copy:\n",
    "        src: /home/static_site.cfg\n",
    "        dest: /etc/nginx/sites-available/static_site.cfg\n",
    "      become: yes\n",
    "    - name: create symlink\n",
    "      file:\n",
    "        src: /etc/nginx/sites-available/static_site.cfg\n",
    "        dest: /etc/nginx/sites-enabled/default\n",
    "        state: link\n",
    "      become: yes\n",
    "    - name: copy the content of the web site\n",
    "      copy:\n",
    "        src: /home/static-site-src/\n",
    "        dest: /home/static-site\n",
    "    - name: restart nginx\n",
    "      service:\n",
    "        name: nginx\n",
    "        state: restarted\n",
    "      become: yes\n",
    "     "
   ]
  },
  {
   "cell_type": "markdown",
   "id": "ca4edbf5",
   "metadata": {},
   "source": [
    "4.\tHow do I programmatically access the name of a variable?"
   ]
  },
  {
   "cell_type": "markdown",
   "id": "be52284d",
   "metadata": {},
   "source": [
    "{{ hostvars[inventory_hostname]['ansible_' + which_interface]['ipv4']['address'] }}"
   ]
  },
  {
   "cell_type": "markdown",
   "id": "52558cb8",
   "metadata": {},
   "source": [
    "5.\tHow do Ansible and Puppet vary from one other?"
   ]
  },
  {
   "cell_type": "markdown",
   "id": "ce98a63a",
   "metadata": {},
   "source": [
    "In Puppet, the client pulls configurations from the server, whereas in Ansible, the server pushes configurations to the nodes, for instantaneous deployment. Plus, in Puppet, you have to write the configurations in Puppet's language, as mentioned, whereas in Ansible you use YAML, which is close to English."
   ]
  },
  {
   "cell_type": "markdown",
   "id": "9bf65df6",
   "metadata": {},
   "source": [
    "6.\tWhat is the purpose of Ansible Tower, and what are its characteristics?"
   ]
  },
  {
   "cell_type": "markdown",
   "id": "58ed0f30",
   "metadata": {},
   "source": [
    "Ansible Tower is the enterprise version of Ansible. It allows sysadmins to deploy all of the benefits of Ansible at scale. And, like Ansible, it integrates with a broad base of your existing technology infrastructure: networking, security, application deployment, storage, software development lifecycle processes, etc."
   ]
  },
  {
   "cell_type": "markdown",
   "id": "70a24ea2",
   "metadata": {},
   "source": [
    "7.\tDescribe how you'll recursively copy files to a destination host."
   ]
  },
  {
   "cell_type": "markdown",
   "id": "f384c4fb",
   "metadata": {},
   "source": [
    "The “copy” module has a recursive parameter. However, if you want this to perform more efficient for a large number of files, then “synchronize” module is the best option for you.\n",
    "\n",
    "- synchronize:\n",
    "   src: /first/absolute/path\n",
    "   dest: /second/absolute/path\n",
    "   delegate_to: \"{{ inventory_hostname }}\""
   ]
  },
  {
   "cell_type": "markdown",
   "id": "1b22349e",
   "metadata": {},
   "source": [
    "8.\tWhat is the most effective method for making content reusable and redistributable?"
   ]
  },
  {
   "cell_type": "markdown",
   "id": "18c92853",
   "metadata": {},
   "source": [
    "To make content reusable and redistributable Ansible roles can be used. Ansible roles are basically a level of abstraction to organize playbooks. For example, if we need to execute 10 tasks on 5 systems, writing all of them in the playbook might lead to blunders and confusion. Instead we create 10 roles and call them inside the playbook."
   ]
  },
  {
   "cell_type": "markdown",
   "id": "9728f40e",
   "metadata": {},
   "source": [
    "9.\tWhat are handlers, and what do they do?"
   ]
  },
  {
   "cell_type": "markdown",
   "id": "4694f4cf",
   "metadata": {},
   "source": [
    "Handlers are like special tasks which only run if the Task contains a “notify” directive. \n",
    "\n",
    "tasks:\n",
    "  - name: install nginx\n",
    "    apt: pkg=nginx state=installed update_cache=true\n",
    "    notify:\n",
    "     - start nginx\n",
    " handlers:\n",
    "   - name: start nginx\n",
    "     service: name=nginx state=started\n"
   ]
  },
  {
   "cell_type": "markdown",
   "id": "1bbc5269",
   "metadata": {},
   "source": [
    "10.\tHow can a user module generate encrypted passwords?"
   ]
  },
  {
   "cell_type": "markdown",
   "id": "dbbe48d0",
   "metadata": {},
   "source": [
    "ansible all -i localhost, -m debug -a \"msg={{ 'mypassword' | password_hash('sha512', 'mysecretsalt') }}\""
   ]
  },
  {
   "cell_type": "markdown",
   "id": "6c04afb2",
   "metadata": {},
   "source": [
    "11.\tWhat is the difference between dot notation and array notation for variables?"
   ]
  },
  {
   "cell_type": "markdown",
   "id": "fa7ec016",
   "metadata": {},
   "source": [
    "Dot notation works fine unless we stump upon few special cases such as\n",
    "\n",
    "If the variable contains a dot(.), colon(:), starting or ending with an underscore or any known public attribute.\n",
    "If there’s a collision between methods and attributes of python dictionaries.\n",
    "Array notation also allows for dynamic variable composition.\n"
   ]
  },
  {
   "cell_type": "markdown",
   "id": "3548e601",
   "metadata": {},
   "source": [
    "12.\tWhat is the purpose of the Ansible synchronize module?"
   ]
  },
  {
   "cell_type": "markdown",
   "id": "7fe6c446",
   "metadata": {},
   "source": [
    "Ansible synchronize is a module similar to rsync in Linux machines which we can use in playbooks. The features are similar to rsync such as archive, compress, delete, etc but there are few limitations also such as\n",
    "\n",
    "Rsync must be installed on both source and target systems\n",
    "Need to specify delegate_to to change the source from localhost to some other port\n",
    "Need to handle user permission as files are accessible as per remote user.\n",
    "We should always give the full path of the destination host location in case we use sudo otherwise files will be copied to the remote user home directory.\n",
    "Linux rsync limitations related to hard links are also applied here.\n",
    "It forces -delay-updates to avoid the broken state in case of connection failure"
   ]
  },
  {
   "cell_type": "markdown",
   "id": "7202b950",
   "metadata": {},
   "source": [
    "13.\tWhat is the purpose of the Ansible firewalld module?"
   ]
  },
  {
   "cell_type": "markdown",
   "id": "b66be39d",
   "metadata": {},
   "source": [
    "Ansible firewalld is used to manage firewall rules on host machines. This works just as Linux firewalld daemon for allowing/blocking services from the port. It is split into two major concepts\n",
    "\n",
    "Zones: This is the location for which we can control which services are exposed to or a location to which one the local network interface is connected.\n",
    "Services: These are typically a series of port/protocol combinations (sockets) that your host may be listening on, which can then be placed in one or more zones"
   ]
  },
  {
   "cell_type": "markdown",
   "id": "5d7a6984",
   "metadata": {},
   "source": [
    "14.\tWhat distinguishes the Ansible set fact module from vars, vars file, and include var?"
   ]
  },
  {
   "cell_type": "markdown",
   "id": "bc8f436d",
   "metadata": {},
   "source": [
    " In Ansible, set_fact is used to set new variable values on a host-by-host basis which is just like ansible facts, discovered by the setup module. These variables are available to subsequent plays in a playbook. In the case of vars, vars_file, or include_var we know the value beforehand whereas when using set_fact, we can store the value after preparing it on the fly using certain tasks like using filters or taking subparts of another variable. We can also set a fact cache over it.\n",
    "\n",
    "set_fact variable assignment is done by using key-pair values where the key is the variable name and the value is the assignment to it. A simple example will be like below\n",
    "\n",
    "- set_fact:\n",
    "one_fact: value1\n",
    "second_fact:\n",
    "value2"
   ]
  },
  {
   "cell_type": "markdown",
   "id": "95771a69",
   "metadata": {},
   "source": [
    "15.\tWhen is it risky to use a variable to bulk-set task arguments?"
   ]
  },
  {
   "cell_type": "markdown",
   "id": "285284a0",
   "metadata": {},
   "source": [
    "All of the task's arguments can be dictionary-typed variables which can be useful in some dynamic execution scenarios also. However, Ansible issues a warning since it introduces a security risk."
   ]
  }
 ],
 "metadata": {
  "kernelspec": {
   "display_name": "Python 3 (ipykernel)",
   "language": "python",
   "name": "python3"
  },
  "language_info": {
   "codemirror_mode": {
    "name": "ipython",
    "version": 3
   },
   "file_extension": ".py",
   "mimetype": "text/x-python",
   "name": "python",
   "nbconvert_exporter": "python",
   "pygments_lexer": "ipython3",
   "version": "3.9.7"
  }
 },
 "nbformat": 4,
 "nbformat_minor": 5
}
