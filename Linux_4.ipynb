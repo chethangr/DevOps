{
 "cells": [
  {
   "cell_type": "markdown",
   "id": "8ecb90c0",
   "metadata": {},
   "source": [
    "1.\tWrite a bash script to delete all the files in the current directory that contains the word “ineuron”."
   ]
  },
  {
   "cell_type": "markdown",
   "id": "7676f12e",
   "metadata": {},
   "source": [
    "for i in *ineuron*; do rm $i; done"
   ]
  },
  {
   "cell_type": "markdown",
   "id": "e5001f86",
   "metadata": {},
   "source": [
    "2.\tHow would you create a text file without opening it?"
   ]
  },
  {
   "cell_type": "markdown",
   "id": "b2d54b2c",
   "metadata": {},
   "source": [
    "Using touch to create a text file touch NewFile.txt"
   ]
  },
  {
   "cell_type": "markdown",
   "id": "5f8218ce",
   "metadata": {},
   "source": [
    "3.\tHow would you delete a directory in Linux?"
   ]
  },
  {
   "cell_type": "markdown",
   "id": "c3e68902",
   "metadata": {},
   "source": [
    "Using rmdir command"
   ]
  },
  {
   "cell_type": "markdown",
   "id": "4ee77551",
   "metadata": {},
   "source": [
    "4.\tHow would you schedule a task in Linux?"
   ]
  },
  {
   "cell_type": "markdown",
   "id": "74bab960",
   "metadata": {},
   "source": [
    "Using cron and at commands"
   ]
  },
  {
   "cell_type": "markdown",
   "id": "69a09ac4",
   "metadata": {},
   "source": [
    "5.\tSuppose you try to delete a file using the rm command and the deletion fails. What could be the possible reason?"
   ]
  },
  {
   "cell_type": "markdown",
   "id": "ad14d1b1",
   "metadata": {},
   "source": [
    "The path specified to the file or the file name mentioned might be wrong\n",
    "\n",
    "The user trying to delete the file might not have permissions to delete the file."
   ]
  },
  {
   "cell_type": "markdown",
   "id": "f6675af4",
   "metadata": {},
   "source": [
    "6.\tHow do you look at the contents of a file?"
   ]
  },
  {
   "cell_type": "markdown",
   "id": "19c478a3",
   "metadata": {},
   "source": [
    "Using cat command"
   ]
  },
  {
   "cell_type": "markdown",
   "id": "7b4162e4",
   "metadata": {},
   "source": [
    "7.\tHow to identify which shell you are using?"
   ]
  },
  {
   "cell_type": "markdown",
   "id": "589636f2",
   "metadata": {},
   "source": [
    "echo $SHELL"
   ]
  },
  {
   "cell_type": "markdown",
   "id": "4db63aa2",
   "metadata": {},
   "source": [
    "8.\tHow can you login to another system in your network from your system?"
   ]
  },
  {
   "cell_type": "markdown",
   "id": "066b1763",
   "metadata": {},
   "source": [
    "You can connect to other Linux computers on your network from the command-line via SSH. The remote computer must have the OpenSSH server program installed for SSH to work."
   ]
  },
  {
   "cell_type": "markdown",
   "id": "fa6370e9",
   "metadata": {},
   "source": [
    "9.\tHow would you open a file in read-only mode using the vim editor?"
   ]
  },
  {
   "cell_type": "markdown",
   "id": "68aa5ae9",
   "metadata": {},
   "source": [
    "vim -R <filename>"
   ]
  }
 ],
 "metadata": {
  "kernelspec": {
   "display_name": "Python 3 (ipykernel)",
   "language": "python",
   "name": "python3"
  },
  "language_info": {
   "codemirror_mode": {
    "name": "ipython",
    "version": 3
   },
   "file_extension": ".py",
   "mimetype": "text/x-python",
   "name": "python",
   "nbconvert_exporter": "python",
   "pygments_lexer": "ipython3",
   "version": "3.9.7"
  }
 },
 "nbformat": 4,
 "nbformat_minor": 5
}
