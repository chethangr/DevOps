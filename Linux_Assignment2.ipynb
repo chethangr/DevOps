{
 "cells": [
  {
   "cell_type": "markdown",
   "id": "879bdd0e",
   "metadata": {},
   "source": [
    "1.\tWhat are inode and process id?"
   ]
  },
  {
   "cell_type": "markdown",
   "id": "0c706253",
   "metadata": {},
   "source": [
    "The inode number refers to the physical file, the data stored in a particular location\n",
    "The process ID is a number used by Linux or Unix operating system kernels. It is used to uniquely identify an active process."
   ]
  },
  {
   "cell_type": "markdown",
   "id": "3c21003d",
   "metadata": {},
   "source": [
    "2.\tWhich are the Linux Directory Commands?"
   ]
  },
  {
   "cell_type": "markdown",
   "id": "c60da219",
   "metadata": {},
   "source": [
    "pwd -- The pwd command stands for (print working directory). It displays the current working location or directory of the user. It displays the whole working path starting with /. It is a built-in command.\n",
    "\n",
    "ls -- The ls command is used to show the list of a folder. It will list out all the files in the directed folder.\n",
    "\n",
    "cd --The cd command stands for (change directory). It is used to change to the directory you want to work from the present directory.\n",
    "\n",
    "mkdir -- With mkdir command you can create your own directory.\n",
    "\n",
    "rmdir -- The rmdir command is used to remove a directory from your system."
   ]
  },
  {
   "cell_type": "markdown",
   "id": "ebe20b66",
   "metadata": {},
   "source": [
    "3.\tWhat is Virtual Desktop?"
   ]
  },
  {
   "cell_type": "markdown",
   "id": "75abd30f",
   "metadata": {},
   "source": [
    "A virtual desktop is a computer operating system that does not run directly on the endpoint hardware from which a user accesses it."
   ]
  },
  {
   "cell_type": "markdown",
   "id": "caa1d1e2",
   "metadata": {},
   "source": [
    "4.\tWhich are the different modes of vi editor?"
   ]
  },
  {
   "cell_type": "markdown",
   "id": "ec36fed4",
   "metadata": {},
   "source": [
    "Command Mode\n",
    "\n",
    "Insert Mode\n",
    "\n",
    "Escape Mode"
   ]
  },
  {
   "cell_type": "markdown",
   "id": "f186fb0f",
   "metadata": {},
   "source": [
    "5.\tWhat are daemons?"
   ]
  },
  {
   "cell_type": "markdown",
   "id": "e444cf87",
   "metadata": {},
   "source": [
    "A daemon is a service process that runs in the background and supervises the system or provides functionality to other processes."
   ]
  },
  {
   "cell_type": "markdown",
   "id": "7b7dafa7",
   "metadata": {},
   "source": [
    "6.\tWhat are the process states in Linux?"
   ]
  },
  {
   "cell_type": "markdown",
   "id": "5834a09c",
   "metadata": {},
   "source": [
    "Running or Runnable (R)\n",
    "\n",
    "Uninterruptible Sleep (D)\n",
    "\n",
    "Interruptable Sleep (S)\n",
    "\n",
    "Stopped (T)\n",
    "\n",
    "Zombie (Z)"
   ]
  },
  {
   "cell_type": "markdown",
   "id": "c1b0dffb",
   "metadata": {},
   "source": [
    "7.\tExplain grep command."
   ]
  },
  {
   "cell_type": "markdown",
   "id": "d881e1ea",
   "metadata": {},
   "source": [
    "Grep command in Unix/Linux is the short form of 'global search for the regular expression'. The grep command is a filter that is used to search for lines matching a specified pattern and print the matching lines to standard output."
   ]
  },
  {
   "cell_type": "markdown",
   "id": "e5701778",
   "metadata": {},
   "source": [
    "8.\tExplain Process Management System Calls in Linux"
   ]
  },
  {
   "cell_type": "markdown",
   "id": "86ebec67",
   "metadata": {},
   "source": [
    "A system call is a procedure that provides the interface between a process and the operating system.In Linux making a system, call involves transferring control from unprivileged user mode to privileged kernel mode; the details of this transfer vary from architecture to architecture."
   ]
  },
  {
   "cell_type": "markdown",
   "id": "08b64af8",
   "metadata": {},
   "source": [
    "9.\tExplain the ‘ls’ command"
   ]
  },
  {
   "cell_type": "markdown",
   "id": "25786954",
   "metadata": {},
   "source": [
    "The ls command is used to list files. \"ls\" on its own lists all files in the current directory except for hidden files"
   ]
  },
  {
   "cell_type": "markdown",
   "id": "b3f53117",
   "metadata": {},
   "source": [
    "10.\tExplain the redirection operator"
   ]
  },
  {
   "cell_type": "markdown",
   "id": "b499342e",
   "metadata": {},
   "source": [
    "Redirection can be defined as changing the way from where commands read input to where commands sends output. You can redirect input and output of a command."
   ]
  }
 ],
 "metadata": {
  "kernelspec": {
   "display_name": "Python 3 (ipykernel)",
   "language": "python",
   "name": "python3"
  },
  "language_info": {
   "codemirror_mode": {
    "name": "ipython",
    "version": 3
   },
   "file_extension": ".py",
   "mimetype": "text/x-python",
   "name": "python",
   "nbconvert_exporter": "python",
   "pygments_lexer": "ipython3",
   "version": "3.9.7"
  }
 },
 "nbformat": 4,
 "nbformat_minor": 5
}
