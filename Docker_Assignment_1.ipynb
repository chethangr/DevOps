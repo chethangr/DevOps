{
 "cells": [
  {
   "cell_type": "markdown",
   "id": "2306da7a",
   "metadata": {},
   "source": [
    "1.\tWhat is Docker?"
   ]
  },
  {
   "cell_type": "markdown",
   "id": "cd44ae9d",
   "metadata": {},
   "source": [
    "Docker is an open source containerization platform. It enables developers to package applications into containers—standardized executable components combining application source code with the operating system (OS) libraries and dependencies required to run that code in any environment."
   ]
  },
  {
   "cell_type": "markdown",
   "id": "483e12f5",
   "metadata": {},
   "source": [
    "2.\tWhat is a Container?"
   ]
  },
  {
   "cell_type": "markdown",
   "id": "7600252b",
   "metadata": {},
   "source": [
    "A container is a lightweight, stand-alone, executable package of a piece of software that includes everything needed to run it."
   ]
  },
  {
   "cell_type": "markdown",
   "id": "1e0e3f1a",
   "metadata": {},
   "source": [
    "3.\tWhat are Docker Images?"
   ]
  },
  {
   "cell_type": "markdown",
   "id": "b54c877f",
   "metadata": {},
   "source": [
    "A Docker image is a read-only template that contains a set of instructions for creating a container that can run on the Docker platform."
   ]
  },
  {
   "cell_type": "markdown",
   "id": "9e98dfd2",
   "metadata": {},
   "source": [
    "4.\t What is Docker Hub?"
   ]
  },
  {
   "cell_type": "markdown",
   "id": "f65cff3c",
   "metadata": {},
   "source": [
    "Docker Hub is a service provided by Docker for finding and sharing container images with your team."
   ]
  },
  {
   "cell_type": "markdown",
   "id": "6fa6b81f",
   "metadata": {},
   "source": [
    "5.\tExplain Docker Architecture?"
   ]
  },
  {
   "cell_type": "markdown",
   "id": "d607de16",
   "metadata": {},
   "source": [
    "Docker uses a client-server architecture. The Docker client talks to the Docker daemon, which does the heavy lifting of building, running, and distributing your Docker containers. The Docker client and daemon can run on the same system, or you can connect a Docker client to a remote Docker daemon. The Docker client and daemon communicate using a REST API, over UNIX sockets or a network interface. Another Docker client is Docker Compose, that lets you work with applications consisting of a set of containers."
   ]
  },
  {
   "cell_type": "markdown",
   "id": "89c26d7a",
   "metadata": {},
   "source": [
    "6.\tWhat is a Dockerfile?"
   ]
  },
  {
   "cell_type": "markdown",
   "id": "7f2052c6",
   "metadata": {},
   "source": [
    "A Dockerfile is a text document that contains all the commands a user could call on the command line to assemble an image. "
   ]
  },
  {
   "cell_type": "markdown",
   "id": "3a7e9589",
   "metadata": {},
   "source": [
    "7.\tWhat is the purpose of the EXPOSE command in Dockerfile?"
   ]
  },
  {
   "cell_type": "markdown",
   "id": "54d59980",
   "metadata": {},
   "source": [
    "The EXPOSE instruction exposes a particular port with a specified protocol inside a Docker Container. In the simplest term, the EXPOSE instruction tells Docker to get all its information required during the runtime from a specified Port."
   ]
  },
  {
   "cell_type": "markdown",
   "id": "288aebb1",
   "metadata": {},
   "source": [
    "8.\tWhy is docker monitoring necessary?"
   ]
  },
  {
   "cell_type": "markdown",
   "id": "8312133a",
   "metadata": {},
   "source": [
    "Docker monitoring solution can help you measure crucial metrics of your applications, including their health, performance, speed, cost, and resource utilization."
   ]
  },
  {
   "cell_type": "markdown",
   "id": "99b20107",
   "metadata": {},
   "source": [
    "9.\tExplain the implementation method of continuous integration (CI) and continuous deployment (CD) in Docker."
   ]
  },
  {
   "cell_type": "markdown",
   "id": "209ab473",
   "metadata": {},
   "source": [
    "We need to do the following things:\n",
    "\n",
    "Runs Jenkins on docker\n",
    "You can run integration tests in Jenkins using docker-compose"
   ]
  },
  {
   "cell_type": "markdown",
   "id": "e5e26ba4",
   "metadata": {},
   "source": [
    "10.\tWhat is a Docker Engine?"
   ]
  },
  {
   "cell_type": "markdown",
   "id": "b0fea538",
   "metadata": {},
   "source": [
    "Docker Engine is the underlying tooling/client that enables users to easily build, manage, share and run their container objects on Linux."
   ]
  }
 ],
 "metadata": {
  "kernelspec": {
   "display_name": "Python 3 (ipykernel)",
   "language": "python",
   "name": "python3"
  },
  "language_info": {
   "codemirror_mode": {
    "name": "ipython",
    "version": 3
   },
   "file_extension": ".py",
   "mimetype": "text/x-python",
   "name": "python",
   "nbconvert_exporter": "python",
   "pygments_lexer": "ipython3",
   "version": "3.9.7"
  }
 },
 "nbformat": 4,
 "nbformat_minor": 5
}
