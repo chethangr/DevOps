{
 "cells": [
  {
   "cell_type": "markdown",
   "id": "552c3bd3",
   "metadata": {},
   "source": [
    "1.\tHow to jump to a particular line in a file using vim editor?"
   ]
  },
  {
   "cell_type": "markdown",
   "id": "141eb504",
   "metadata": {},
   "source": [
    "vim +<line number> <filename>"
   ]
  },
  {
   "cell_type": "markdown",
   "id": "855abd7e",
   "metadata": {},
   "source": [
    "2.\tHow do you sort the entries in a text file in ascending order?"
   ]
  },
  {
   "cell_type": "markdown",
   "id": "04dfd989",
   "metadata": {},
   "source": [
    "This can be done using the sort command.\n",
    "\n",
    "$ sort sample.txt"
   ]
  },
  {
   "cell_type": "markdown",
   "id": "19ca22be",
   "metadata": {},
   "source": [
    "3.\tWhat is the export command used for?"
   ]
  },
  {
   "cell_type": "markdown",
   "id": "9a9e4878",
   "metadata": {},
   "source": [
    "The export command is used to set and reload the environment variables."
   ]
  },
  {
   "cell_type": "markdown",
   "id": "64373156",
   "metadata": {},
   "source": [
    "4.\tHow do you check if a particular service is running?"
   ]
  },
  {
   "cell_type": "markdown",
   "id": "6a1038eb",
   "metadata": {},
   "source": [
    "service <servicename> status"
   ]
  },
  {
   "cell_type": "markdown",
   "id": "64fc26fb",
   "metadata": {},
   "source": [
    "5.\tHow do you check the status of all the services?"
   ]
  },
  {
   "cell_type": "markdown",
   "id": "7b348496",
   "metadata": {},
   "source": [
    "service --status-all"
   ]
  },
  {
   "cell_type": "markdown",
   "id": "72210205",
   "metadata": {},
   "source": [
    "6.\tHow do you start and stop a service?"
   ]
  },
  {
   "cell_type": "markdown",
   "id": "0cfa2ebf",
   "metadata": {},
   "source": [
    "To start:\n",
    "\n",
    "$ service <servicename> start\n",
    "\n",
    "To stop:\n",
    "\n",
    "$ service <servicename> start"
   ]
  },
  {
   "cell_type": "markdown",
   "id": "c5283118",
   "metadata": {},
   "source": [
    "7.\tExplain the free command."
   ]
  },
  {
   "cell_type": "markdown",
   "id": "5371eee4",
   "metadata": {},
   "source": [
    "This command is used to display the free, used, swap memory available in the system. "
   ]
  },
  {
   "cell_type": "markdown",
   "id": "cc8a4214",
   "metadata": {},
   "source": [
    "8.\tExplain chmod command"
   ]
  },
  {
   "cell_type": "markdown",
   "id": "9904d990",
   "metadata": {},
   "source": [
    "chmod command can be used to change the permissions of a file or directory."
   ]
  },
  {
   "cell_type": "markdown",
   "id": "51f5ae1e",
   "metadata": {},
   "source": [
    "9.\tExplain grep command"
   ]
  },
  {
   "cell_type": "markdown",
   "id": "6cf962ad",
   "metadata": {},
   "source": [
    "Grep stands for Global Regular Expression Print. The grep command is used to search for a text in a file by pattern matching based on regular expression.\n",
    "\n",
    "Syntax: grep [options] pattern [files]\n",
    "\n",
    "Example:\n",
    "\n",
    "$ grep -c \"linux\" file1.txt\n",
    "\n",
    "This command will print the count of the word “linux” in the “file1.txt” file."
   ]
  },
  {
   "cell_type": "markdown",
   "id": "66241b23",
   "metadata": {},
   "source": [
    "10.\tWhat is the use of nano editor?"
   ]
  },
  {
   "cell_type": "markdown",
   "id": "b522b0a0",
   "metadata": {},
   "source": [
    "Nano is a simple, modeless, WYSIWYG command-line text editor included in most Linux installations. "
   ]
  },
  {
   "cell_type": "code",
   "execution_count": null,
   "id": "88ba7aaf",
   "metadata": {},
   "outputs": [],
   "source": []
  }
 ],
 "metadata": {
  "kernelspec": {
   "display_name": "Python 3 (ipykernel)",
   "language": "python",
   "name": "python3"
  },
  "language_info": {
   "codemirror_mode": {
    "name": "ipython",
    "version": 3
   },
   "file_extension": ".py",
   "mimetype": "text/x-python",
   "name": "python",
   "nbconvert_exporter": "python",
   "pygments_lexer": "ipython3",
   "version": "3.9.7"
  }
 },
 "nbformat": 4,
 "nbformat_minor": 5
}
