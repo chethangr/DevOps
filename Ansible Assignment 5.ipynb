{
 "cells": [
  {
   "cell_type": "markdown",
   "id": "24b1f538",
   "metadata": {},
   "source": [
    "1.\tHow can I set the PATH variable for a task or any other environment variable?"
   ]
  },
  {
   "cell_type": "markdown",
   "id": "ef4fb6de",
   "metadata": {},
   "source": [
    "The environment variables can be set by using the ‘environment’ keyword. It can be set for either a task or an entire playbook as well. Follow the below code snippet to see how:\n",
    "\n",
    "environment:\n",
    "PATH: \"{{ ansible_env.PATH }}:/thingy/bin\"\n",
    "SOME: value"
   ]
  },
  {
   "cell_type": "markdown",
   "id": "3f45323a",
   "metadata": {},
   "source": [
    "2.\tHow can encrypted passwords for the user module be generated?"
   ]
  },
  {
   "cell_type": "markdown",
   "id": "34d3ee00",
   "metadata": {},
   "source": [
    "The simplest way is to use the ad-hoc command:\n",
    "\n",
    "ansible all -i localhost, -m debug -a \"msg={{ 'mypassword' | password_hash('sha512', 'mysecretsalt') }}\""
   ]
  },
  {
   "cell_type": "markdown",
   "id": "3ce60f7b",
   "metadata": {},
   "source": [
    "3.\tHow can a list of hosts in a group be looped over within a template?"
   ]
  },
  {
   "cell_type": "markdown",
   "id": "05e3ac4f",
   "metadata": {},
   "source": [
    "An easy way to do this is to iterate over a list of hosts inside of a host group, in order to fill a template configuration file with a list of servers. This can be done by accessing the “$groups” dictionary in your template, like so:\n",
    "\n",
    "{% for host in groups['db_servers'] %}\n",
    "{{ host }}\n",
    "{% endfor %}\n",
    "In order to access facts about these hosts, like, the IP address of each hostname, you need to make sure that the facts have been populated. For instance, make sure you have a play that talks to db_servers:\n",
    "\n",
    "- hosts: db_servers\n",
    "tasks:\n",
    "- debug: msg=\"doesn't matter what you do, just that they were talked to previously.\"\n",
    "Now you can use the facts within your template, like so:\n",
    "\n",
    "{% for host in groups['db_servers'] %}\n",
    "{{ hostvars[host]['ansible_eth0']['ipv4']['address'] }}\n",
    "{% endfor %}"
   ]
  },
  {
   "cell_type": "markdown",
   "id": "f67f79ca",
   "metadata": {},
   "source": [
    "4.\tWhat is the best way to see all of my host's inventory variables?"
   ]
  },
  {
   "cell_type": "markdown",
   "id": "c5f74358",
   "metadata": {},
   "source": [
    "In order to check the inventory vars resulting from what you’ve defined in the inventory, you can execute the below command:\n",
    "\n",
    "ansible -m debug -a \"var=hostvars['hostname']\" localhost\n",
    "\n",
    "This will list down all the inventory vars."
   ]
  },
  {
   "cell_type": "markdown",
   "id": "ae806d35",
   "metadata": {},
   "source": [
    "5.\tHow should I set up a jump host to connect to servers that I don't have direct access to?"
   ]
  },
  {
   "cell_type": "markdown",
   "id": "a718db44",
   "metadata": {},
   "source": [
    "First step would be to set a ProxyCommand in the ansible_ssh_common_args inventory variable. All arguments that are defined in this variable are added to the sftp/scp/ssh command line when connecting to the relevant host. Let’s look at an example, consider the below inventory group:\n",
    "\n",
    "[gatewayed]\n",
    "foo ansible_host=192.0.2.1\n",
    "bar ansible_host=192.0.2.2\n",
    "Next, you can create group_vars/gatewayed.yml containing the following:\n",
    "\n",
    "ansible_ssh_common_args: '-o ProxyCommand=\"ssh -W %h:%p -q user@gateway.example.com\"'\n",
    "\n",
    "Ansible will then append these arguments to the command line while trying to connect to any hosts in the group gatewayed."
   ]
  },
  {
   "cell_type": "markdown",
   "id": "3746b5e6",
   "metadata": {},
   "source": [
    "6.\tHow do you deal with different machines that require different user accounts or ports to log in?"
   ]
  },
  {
   "cell_type": "markdown",
   "id": "ee2a0e86",
   "metadata": {},
   "source": [
    "The simplest way to do this is by setting inventory variables in the inventory file.\n",
    "\n",
    "For eg these hosts have different usernames and ports:\n",
    "\n",
    "[webservers]\n",
    "asdf.example.com ansible_port=5000 ansible_user=alice\n",
    "jkl.example.com ansible_port=5001 ansible_user=bob\n",
    "Also, if you wish to, you can specify the connection type to be used:\n",
    "\n",
    "[testcluster]\n",
    "localhost ansible_connection=local\n",
    "/path/to/chroot1 ansible_connection=chroot\n",
    "foo.example.com ansible_connection=paramiko\n",
    "To make this more clear it is best to keep these in group variables or file them in a group_vars/<group-name> file."
   ]
  },
  {
   "cell_type": "markdown",
   "id": "5bbd95d8",
   "metadata": {},
   "source": [
    "7.\tAssume you're configuring the production environment with Ansible, and your playbook uses an encrypted file. Passwords must be entered while using encrypted files. Can this process be automated, though, given Ansible is utilized for automation?"
   ]
  },
  {
   "cell_type": "markdown",
   "id": "ce37fea7",
   "metadata": {},
   "source": [
    "Yes, Ansible uses a feature called password file, where all the passwords to your encrypted files can be saved. So each time the user is asked for the password, he can simply make a call to the password file. The password is automatically read and entered by Ansible.\n",
    "\n",
    "$ ansible-playbook launch.yml --vault-password-file ~/ .vault_pass.txt\n",
    "\n",
    "Having a separate script that specifies the passwords is also possible. You need to make sure the script file is executable and the password is printed to standard output for it to work without annoying errors.\n",
    "\n",
    "$ ansible-playbook launch.yml --vault-password-file ~/ .vault_pass.py\n",
    "\n"
   ]
  },
  {
   "cell_type": "markdown",
   "id": "ee6625db",
   "metadata": {},
   "source": [
    "8. Is Ansible a free and open-source software?"
   ]
  },
  {
   "cell_type": "markdown",
   "id": "1f8720ae",
   "metadata": {},
   "source": [
    "Yes, Ansible is open source. That means you take the modules and rewrite them. Ansible is an open-source automated engine that lets you automate apps."
   ]
  }
 ],
 "metadata": {
  "kernelspec": {
   "display_name": "Python 3 (ipykernel)",
   "language": "python",
   "name": "python3"
  },
  "language_info": {
   "codemirror_mode": {
    "name": "ipython",
    "version": 3
   },
   "file_extension": ".py",
   "mimetype": "text/x-python",
   "name": "python",
   "nbconvert_exporter": "python",
   "pygments_lexer": "ipython3",
   "version": "3.9.7"
  }
 },
 "nbformat": 4,
 "nbformat_minor": 5
}
