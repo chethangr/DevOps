{
 "cells": [
  {
   "cell_type": "markdown",
   "id": "016025e2",
   "metadata": {},
   "source": [
    "1.\tDifference between virtualization and containerization?"
   ]
  },
  {
   "cell_type": "markdown",
   "id": "683a082e",
   "metadata": {},
   "source": [
    "Virtualization enables you to run multiple operating systems on the hardware of a single physical server, while containerization enables you to deploy multiple applications using the same operating system on a single virtual machine or server."
   ]
  },
  {
   "cell_type": "markdown",
   "id": "d719636d",
   "metadata": {},
   "source": [
    "2.\tWhat is a Docker hub?"
   ]
  },
  {
   "cell_type": "markdown",
   "id": "dde1f613",
   "metadata": {},
   "source": [
    "Docker Hub is a service provided by Docker for finding and sharing container images with the team. It is the world’s largest repository of container images with an array of content sources including container community developers, open source projects and independent software vendors building and distributing their code in containers."
   ]
  },
  {
   "cell_type": "markdown",
   "id": "2f901059",
   "metadata": {},
   "source": [
    "3.\tTell us something about docker-compose?"
   ]
  },
  {
   "cell_type": "markdown",
   "id": "98e34c2e",
   "metadata": {},
   "source": [
    "Docker Compose is a tool that was developed to help define and share multi-container applications. With Compose, we can create a YAML file to define the services and with a single command, can spin everything up or tear it all down."
   ]
  },
  {
   "cell_type": "markdown",
   "id": "3ef8d9ef",
   "metadata": {},
   "source": [
    "4.\tWhat is the docker swarm?"
   ]
  },
  {
   "cell_type": "markdown",
   "id": "82570505",
   "metadata": {},
   "source": [
    "Docker Swarm is native clustering for Docker. It turns a pool of Docker hosts into a single, virtual Docker host. Docker Swarm serves the standard Docker API, any tool that already communicates with a Docker daemon can use Swarm to transparently scale to multiple hosts."
   ]
  },
  {
   "cell_type": "markdown",
   "id": "e750e7eb",
   "metadata": {},
   "source": [
    "5.\tExplain the lifecycle of the docker container?"
   ]
  },
  {
   "cell_type": "markdown",
   "id": "e9e3a052",
   "metadata": {},
   "source": [
    "The Docker Container Lifecycle is as follows: \n",
    "Create\n",
    "Run\n",
    "Pause\n",
    "Stop\n",
    "Delete."
   ]
  },
  {
   "cell_type": "markdown",
   "id": "b34c8a6b",
   "metadata": {},
   "source": [
    "6.\tHow to check the docker client and docker server version?"
   ]
  },
  {
   "cell_type": "markdown",
   "id": "8bc85cba",
   "metadata": {},
   "source": [
    "Using the command - docker version."
   ]
  },
  {
   "cell_type": "markdown",
   "id": "58ad96dc",
   "metadata": {},
   "source": [
    "7.\tHow do you get the number of containers running, paused, and stopped"
   ]
  },
  {
   "cell_type": "markdown",
   "id": "22c39889",
   "metadata": {},
   "source": [
    "You can use the following command to get detailed information about the docker installed on your system.\n",
    "\n",
    "$ docker info"
   ]
  },
  {
   "cell_type": "markdown",
   "id": "790d9cad",
   "metadata": {},
   "source": [
    "8.\tIf you vaguely remember the command and you’d like to confirm it, how will you get help on that particular command?"
   ]
  },
  {
   "cell_type": "markdown",
   "id": "d2192695",
   "metadata": {},
   "source": [
    "By executing the command followed by the --help option"
   ]
  },
  {
   "cell_type": "markdown",
   "id": "4021d160",
   "metadata": {},
   "source": [
    "9.\tHow to log in to the docker repository?"
   ]
  },
  {
   "cell_type": "markdown",
   "id": "f9244cea",
   "metadata": {},
   "source": [
    "docker login [OPTIONS] [SERVER]\n",
    "\n",
    "To login to self hosted registry\n",
    "\n",
    "docker login localhost:8080"
   ]
  },
  {
   "cell_type": "markdown",
   "id": "72e5968d",
   "metadata": {},
   "source": [
    "10.\tHow do you create a docker container from an image?"
   ]
  },
  {
   "cell_type": "markdown",
   "id": "eedc0788",
   "metadata": {},
   "source": [
    "docker create [OPTIONS] IMAGE [COMMAND] [ARG...]\n",
    "\n",
    "The docker create command creates a writeable container layer over the specified image and prepares it for running the specified command. The container ID is then printed to STDOUT. This is similar to docker run -d except the container is never started. You can then use the docker start <container_id> command to start the container at any point."
   ]
  }
 ],
 "metadata": {
  "kernelspec": {
   "display_name": "Python 3 (ipykernel)",
   "language": "python",
   "name": "python3"
  },
  "language_info": {
   "codemirror_mode": {
    "name": "ipython",
    "version": 3
   },
   "file_extension": ".py",
   "mimetype": "text/x-python",
   "name": "python",
   "nbconvert_exporter": "python",
   "pygments_lexer": "ipython3",
   "version": "3.9.7"
  }
 },
 "nbformat": 4,
 "nbformat_minor": 5
}
