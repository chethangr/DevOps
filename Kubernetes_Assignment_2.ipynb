{
 "cells": [
  {
   "cell_type": "markdown",
   "id": "249cd5f5",
   "metadata": {},
   "source": [
    "1.\tWhat is the importance of Load Balance in Kubernetes?"
   ]
  },
  {
   "cell_type": "markdown",
   "id": "1ed2fded",
   "metadata": {},
   "source": [
    "Load balancing, a critical strategy for maximizing availability and scalability, is the process of distributing network traffic efficiently among multiple backend services. A number of Kubernetes load balancer strategies and algorithms for managing external traffic to pods exist."
   ]
  },
  {
   "cell_type": "markdown",
   "id": "57c3cc46",
   "metadata": {},
   "source": [
    "2.\tWhat is the relationship between Kubernetes and Docker?"
   ]
  },
  {
   "cell_type": "markdown",
   "id": "dda376ef",
   "metadata": {},
   "source": [
    "Docker images are read-only templates used to build containers. Containers are deployed instances created from those templates. Images and containers are closely related, and are essential in powering the Docker software platform."
   ]
  },
  {
   "cell_type": "markdown",
   "id": "222b473d",
   "metadata": {},
   "source": [
    "3.\tWhat distinguishes Kubernetes from other containers?"
   ]
  },
  {
   "cell_type": "markdown",
   "id": "5b5099a9",
   "metadata": {},
   "source": [
    "The main functionality of containers is to code once and run anywhere, Kubernetes helps to orchestrate and manage all the container resources from a single control plane. It helps with networking, load-balancing, security, and scaling across all Kubernetes nodes which runs the containers."
   ]
  },
  {
   "cell_type": "markdown",
   "id": "40986103",
   "metadata": {},
   "source": [
    "4.\tWhat exactly do you mean when you say heapster?"
   ]
  },
  {
   "cell_type": "markdown",
   "id": "54ca7d58",
   "metadata": {},
   "source": [
    "Heapster is a cluster-wide aggregator of monitoring and event data.The Heapster pod discovers all nodes in the cluster and queries usage information from the nodes' Kubelets, the on-machine Kubernetes agent."
   ]
  },
  {
   "cell_type": "markdown",
   "id": "59ceadd4",
   "metadata": {},
   "source": [
    "5.\tWhat exactly is a kubelet?"
   ]
  },
  {
   "cell_type": "markdown",
   "id": "7ef85063",
   "metadata": {},
   "source": [
    "The kubelet is the primary node agent that runs on each node."
   ]
  }
 ],
 "metadata": {
  "kernelspec": {
   "display_name": "Python 3 (ipykernel)",
   "language": "python",
   "name": "python3"
  },
  "language_info": {
   "codemirror_mode": {
    "name": "ipython",
    "version": 3
   },
   "file_extension": ".py",
   "mimetype": "text/x-python",
   "name": "python",
   "nbconvert_exporter": "python",
   "pygments_lexer": "ipython3",
   "version": "3.9.7"
  }
 },
 "nbformat": 4,
 "nbformat_minor": 5
}
