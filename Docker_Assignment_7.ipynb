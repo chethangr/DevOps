{
 "cells": [
  {
   "cell_type": "markdown",
   "id": "c41574e1",
   "metadata": {},
   "source": [
    "1.\tIn Docker, where are docker volumes stored?"
   ]
  },
  {
   "cell_type": "markdown",
   "id": "f5939ba7",
   "metadata": {},
   "source": [
    "Volumes are created and managed by Docker (not to be accessed by Non-Docker processes) and are stored in a part of Docker host filesystem: /var/lib/docker/volumes/. Volumes are the most efficient way to persist data in Docker."
   ]
  },
  {
   "cell_type": "markdown",
   "id": "241f2fcc",
   "metadata": {},
   "source": [
    "2.\tWhat is the purpose of the docker info command?"
   ]
  },
  {
   "cell_type": "markdown",
   "id": "494163e6",
   "metadata": {},
   "source": [
    "Gets detailed information about Docker installed on the system like the number of containers, images, running, paused, stopped, server version, volume, runtimes, kernel version, total memory etc. Syntax: docker info;"
   ]
  },
  {
   "cell_type": "markdown",
   "id": "02efba1a",
   "metadata": {},
   "source": [
    "3.\tWhat are the minimum system requirements for Docker to run?"
   ]
  },
  {
   "cell_type": "markdown",
   "id": "49688ba4",
   "metadata": {},
   "source": [
    "Windows 11 64-bit: Home or Pro version 21H2 or higher, or Enterprise or Education version 21H2 or higher. \n",
    "\n",
    "Windows 10 64-bit: Home or Pro 2004 (build 19041) or higher, or Enterprise or Education 1909 (build 18363) or higher.\n",
    "\n",
    "Enable the WSL 2 feature on Windows. For detailed instructions, refer to the Microsoft documentation.\n",
    "\n",
    "The following hardware prerequisites are required to successfully run WSL 2 on Windows 10 or Windows 11:\n",
    "\n",
    "64-bit processor with Second Level Address Translation (SLAT)\n",
    "\n",
    "4GB system RAM\n",
    "\n",
    "BIOS-level hardware virtualization support must be enabled in the BIOS settings. For more information, see Virtualization.\n",
    "\n",
    "Download and install the Linux kernel update package."
   ]
  },
  {
   "cell_type": "markdown",
   "id": "15b9176f",
   "metadata": {},
   "source": [
    "4.\tWhat are the most widely utilized Dockerfile instructions?"
   ]
  },
  {
   "cell_type": "markdown",
   "id": "185f5ed6",
   "metadata": {},
   "source": [
    "FROM.\n",
    "\n",
    "RUN.\n",
    "\n",
    "CMD.\n",
    "\n",
    "ENTRYPOINT.\n",
    "\n",
    "WORKDIR.\n",
    "\n",
    "COPY.\n",
    "\n",
    "ADD."
   ]
  },
  {
   "cell_type": "markdown",
   "id": "6db622f5",
   "metadata": {},
   "source": [
    "5.\tWhen using docker-compose, how will you ensure that container 1 runs before container 2? Also, could you provide a sample Yaml example file?"
   ]
  },
  {
   "cell_type": "code",
   "execution_count": null,
   "id": "b1ad3a7e",
   "metadata": {},
   "outputs": [],
   "source": [
    "Docker Compose doesn’t wait for containers to be ready before moving forward with the next container. In order to control our order of execution, we can use the “depends on” condition, depends_on.\n",
    "\n",
    "Here’s an example of it being used in a docker-compose.yml file:\n",
    "\n",
    "version: \"2.4\"\n",
    "services:\n",
    " backend:\n",
    "   build: .\n",
    "   depends_on:\n",
    "     - db\n",
    " db:\n",
    "   image: postgres"
   ]
  },
  {
   "cell_type": "markdown",
   "id": "f108bf58",
   "metadata": {},
   "source": [
    "6.\tHow can I utilise Docker to run several applications in a single environment?"
   ]
  },
  {
   "cell_type": "markdown",
   "id": "8338ae91",
   "metadata": {},
   "source": [
    "Using Supervisord and Docker compose we can utilise Docker to run several applications in a single environment"
   ]
  },
  {
   "cell_type": "markdown",
   "id": "00306456",
   "metadata": {},
   "source": [
    "7.\tWhat are the System commands for controlling Docker?"
   ]
  },
  {
   "cell_type": "markdown",
   "id": "19111b15",
   "metadata": {},
   "source": [
    "docker system df      -Show docker disk usage\n",
    "\n",
    "docker system events  -Get real time events from the server\n",
    "\n",
    "docker system info\t- Display system-wide information\n",
    "\n",
    "docker system prune\t- Remove unused data"
   ]
  },
  {
   "cell_type": "markdown",
   "id": "8ea96f8d",
   "metadata": {},
   "source": [
    "8.\tHow do you scale your Docker containers, and what command do you use to do so?"
   ]
  },
  {
   "cell_type": "markdown",
   "id": "e0678791",
   "metadata": {},
   "source": [
    "Docker containers can be scaled to any level, starting from a few hundreds to even thousands or millions of containers. The only condition is that the containers need the memory and the OS all the time, and there should not be a constraint on these when the Docker is getting scaled.\n",
    "\n",
    "Scale the server container and start 'n' instances of the server using:\n",
    " docker-compose --file docker-compose-run-srvr.yml scale <service_name>=<n>\n",
    "    \n",
    "In the above command, the service name is defined in docker-compose-run-srvr.yml and are scaling it to 'n' times, where n can be any integer value.\n",
    "\n",
    "After scaling the Docker container, to check the container details, execute the following command:\n",
    "$] docker ps -a"
   ]
  },
  {
   "cell_type": "markdown",
   "id": "bc7c5bb2",
   "metadata": {},
   "source": [
    "9.\tWhat exactly is CNM?"
   ]
  },
  {
   "cell_type": "markdown",
   "id": "4c25f546",
   "metadata": {},
   "source": [
    "CNM or Container Network Model is a specification that formally defines the steps needed to provide networking for containers while maintaining abstraction used to support multiple network drivers. CNM is built on three components, namely, sandbox, endpoint, and Network."
   ]
  },
  {
   "cell_type": "markdown",
   "id": "bde5a430",
   "metadata": {},
   "source": [
    "10.\tExplain what some of the more complex Docker commands do."
   ]
  },
  {
   "cell_type": "markdown",
   "id": "9ee1cbc2",
   "metadata": {},
   "source": [
    "docker -version: to know the installed docker version. Syntax, Docker --version\n",
    "docker ps: lists all the docker containers that are running along with the container details. Syntax: docker ps\n",
    "docker ps -a: lists all the containers, including those that are running, stopped, exited, along with the details. Syntax: docker ps -a\n",
    "docker exec: Access the container and run commands inside that container. Syntax: docker exec [options]\n",
    "docker build: builds an image from Dockerfile. Syntax: docker build [options] path|URL\n",
    "docker rm: Removes the container with the mentioned container id. Syntax: docker rm <container_id>\n",
    "docker rmi: Removes the docker image with the mentioned image id. Syntax: docker rmi <image_id>\n",
    "docker info: Gets detailed information about Docker installed on the system like the number of containers, images, running, paused, stopped, server version, volume, runtimes, kernel version, total memory etc. Syntax: docker info;\n",
    "docker cp: Copies a file from a docker container to a local system. Syntax: docker cp <source_path> <dest_path>\n",
    "docker history: displays the history of the docker image with the mentioned image name. Syntax: docker history <img_name>"
   ]
  },
  {
   "cell_type": "markdown",
   "id": "30589101",
   "metadata": {},
   "source": [
    "11.\tHow do Docker object labels work?"
   ]
  },
  {
   "cell_type": "markdown",
   "id": "5fccfb09",
   "metadata": {},
   "source": [
    "Docker object label is a key-value pair that is stored as a string. We can apply metadata using labels. Labels can be applied for Docker objects like images, containers, volumes, networks, local daemons, swarm nodes, and services. The key-value pair should be unique for each object. Labels are static for the entire lifetime of the object."
   ]
  }
 ],
 "metadata": {
  "kernelspec": {
   "display_name": "Python 3 (ipykernel)",
   "language": "python",
   "name": "python3"
  },
  "language_info": {
   "codemirror_mode": {
    "name": "ipython",
    "version": 3
   },
   "file_extension": ".py",
   "mimetype": "text/x-python",
   "name": "python",
   "nbconvert_exporter": "python",
   "pygments_lexer": "ipython3",
   "version": "3.9.7"
  }
 },
 "nbformat": 4,
 "nbformat_minor": 5
}
