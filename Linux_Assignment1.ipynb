{
 "cells": [
  {
   "cell_type": "markdown",
   "id": "5727e8c4",
   "metadata": {},
   "source": [
    "1.\tWhat is Linux?\n"
   ]
  },
  {
   "cell_type": "markdown",
   "id": "8174b501",
   "metadata": {},
   "source": [
    "Linux is an open source operating system (OS) which directly manages a system’s hardware and resources, like CPU, memory, and storage. The OS sits between applications and hardware and makes the connections between all of your software and the physical resources that do the work."
   ]
  },
  {
   "cell_type": "markdown",
   "id": "bd1e20d4",
   "metadata": {},
   "source": [
    "2.\tWhat is the difference between Linux and Unix?"
   ]
  },
  {
   "cell_type": "markdown",
   "id": "c1c20b94",
   "metadata": {},
   "source": [
    "Linux refers to the kernel of the GNU/Linux operating system. \n",
    "Unix refers to the original operating system developed by AT&T"
   ]
  },
  {
   "cell_type": "markdown",
   "id": "4a91b473",
   "metadata": {},
   "source": [
    "3.\tWhat is Linux Kernel? Is it legal to edit Linux Kernel? "
   ]
  },
  {
   "cell_type": "markdown",
   "id": "673ff87d",
   "metadata": {},
   "source": [
    "Yes, Linux kernel is free and can be modified by anyone."
   ]
  },
  {
   "cell_type": "markdown",
   "id": "6c8598d1",
   "metadata": {},
   "source": [
    "4.\tWhat is LILO?"
   ]
  },
  {
   "cell_type": "markdown",
   "id": "3f1fa6f4",
   "metadata": {},
   "source": [
    "It is a boot loader which permit to select which OS in a machine should be used"
   ]
  },
  {
   "cell_type": "markdown",
   "id": "0ba70c09",
   "metadata": {},
   "source": [
    "5.\tWhat are the basic components of Linux?"
   ]
  },
  {
   "cell_type": "markdown",
   "id": "aba364c9",
   "metadata": {},
   "source": [
    " The kernel, X Server, Applications, Desktop environment"
   ]
  },
  {
   "cell_type": "markdown",
   "id": "c1980352",
   "metadata": {},
   "source": [
    "6.\tWhich are the Shells used in Linux? "
   ]
  },
  {
   "cell_type": "markdown",
   "id": "24fd2834",
   "metadata": {},
   "source": [
    "It is called bash"
   ]
  },
  {
   "cell_type": "markdown",
   "id": "15dad010",
   "metadata": {},
   "source": [
    "7.\tWhat is Swap Space?"
   ]
  },
  {
   "cell_type": "markdown",
   "id": "d6819cc0",
   "metadata": {},
   "source": [
    "Swap space in Linux is used when the amount of physical memory (RAM) is full."
   ]
  },
  {
   "cell_type": "markdown",
   "id": "c739551c",
   "metadata": {},
   "source": [
    "8.\tWhat is the difference between BASH and DOS?"
   ]
  },
  {
   "cell_type": "markdown",
   "id": "2644644d",
   "metadata": {},
   "source": [
    "BASH commands are case sensitive while DOS commands are not. In BASH, / character is a directory separator and \\ acts as an escape character while in DOS, / serves as a command argument delimiter and \\ is the directory separator."
   ]
  },
  {
   "cell_type": "markdown",
   "id": "28281a90",
   "metadata": {},
   "source": [
    "9.\tWhat command would you use to check how much memory is being used by Linux?"
   ]
  },
  {
   "cell_type": "markdown",
   "id": "2b12c813",
   "metadata": {},
   "source": [
    " free-h command can be used to display in readable format"
   ]
  },
  {
   "cell_type": "markdown",
   "id": "7835753b",
   "metadata": {},
   "source": [
    "10.\tExplain file permission in Linux."
   ]
  },
  {
   "cell_type": "markdown",
   "id": "7b4cfa5f",
   "metadata": {},
   "source": [
    "Read (r) : The read permission allows you to open and read the content of a file. But you can't do any editing or modification in the file.\n",
    "Write (w) : The write permission allows you to edit, remove or rename a file. For instance, if a file is present in a directory, and write permission is set on the file but not on the directory, then you can edit the content of the file but can't remove, or rename it.\n",
    "Execute (x): In Unix type system, you can't run or execute a program unless execute permission is set.But in Windows, there is no such permission available."
   ]
  },
  {
   "cell_type": "code",
   "execution_count": null,
   "id": "ac4cb8b2",
   "metadata": {},
   "outputs": [],
   "source": []
  }
 ],
 "metadata": {
  "kernelspec": {
   "display_name": "Python 3 (ipykernel)",
   "language": "python",
   "name": "python3"
  },
  "language_info": {
   "codemirror_mode": {
    "name": "ipython",
    "version": 3
   },
   "file_extension": ".py",
   "mimetype": "text/x-python",
   "name": "python",
   "nbconvert_exporter": "python",
   "pygments_lexer": "ipython3",
   "version": "3.9.7"
  }
 },
 "nbformat": 4,
 "nbformat_minor": 5
}
