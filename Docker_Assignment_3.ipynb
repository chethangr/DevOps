{
 "cells": [
  {
   "cell_type": "markdown",
   "id": "69967afd",
   "metadata": {},
   "source": [
    "1.\tWhat is the way to establish communication between the docker and Linux hosts?"
   ]
  },
  {
   "cell_type": "markdown",
   "id": "0f1ad99b",
   "metadata": {},
   "source": [
    "You can communicate between Docker client and Docker Daemon with the combination of Rest API, socket.IO, and TCP."
   ]
  },
  {
   "cell_type": "markdown",
   "id": "1ce853a5",
   "metadata": {},
   "source": [
    "2.\tDifferentiate between COPY and ADD commands that are used in a Dockerfile?"
   ]
  },
  {
   "cell_type": "markdown",
   "id": "9781a338",
   "metadata": {},
   "source": [
    "COPY takes in a src and destination. It only lets you copy in a local or directory from your host (the machine-building the Docker image) into the Docker image itself.\n",
    "\n",
    "Command: COPY <src> <dest>\n",
    "    \n",
    "ADD  lets you do that too, but it also supports 2 other sources. First, you can use a URL instead of a local file/directory. Secondly, you can extract tar from the source directory into the destination.\n",
    "    \n",
    "Command: ADD <src> <dest>\n"
   ]
  },
  {
   "cell_type": "markdown",
   "id": "26eb83f8",
   "metadata": {},
   "source": [
    "3.\tCan you tell what the functionality of a hypervisor is?"
   ]
  },
  {
   "cell_type": "markdown",
   "id": "bfc80ed0",
   "metadata": {},
   "source": [
    "A hypervisor is a software that makes virtualization happen because of which is sometimes referred to as the Virtual Machine Monitor. This divides the resources of the host system and allocates them to each guest environment installed."
   ]
  },
  {
   "cell_type": "markdown",
   "id": "18a2aec0",
   "metadata": {},
   "source": [
    "4.\tCan you tell me something about the docker namespace?"
   ]
  },
  {
   "cell_type": "markdown",
   "id": "feec2735",
   "metadata": {},
   "source": [
    "Docker namespaces provide an isolated workspace called the container. When we run a container, Docker creates a set of namespaces for that container. These namespaces provide a layer of isolation."
   ]
  },
  {
   "cell_type": "markdown",
   "id": "72c5db9b",
   "metadata": {},
   "source": [
    "5.\tIn what circumstances will you lose data stored in a container?"
   ]
  },
  {
   "cell_type": "markdown",
   "id": "3fb1c089",
   "metadata": {},
   "source": [
    "No, any data that your application writes to disk get stored in container. The file system for the contain persists even after the container halts."
   ]
  },
  {
   "cell_type": "markdown",
   "id": "66c4f95b",
   "metadata": {},
   "source": [
    "6.\tCan you use a container, edit it, and update it? Also, how do you make it new and store it on the local system?"
   ]
  },
  {
   "cell_type": "markdown",
   "id": "fe187149",
   "metadata": {},
   "source": [
    "Yes, you can use a container, edit it and update it. This sounds complicated but its actually just one command.\n",
    "\n",
    "$ docker commit <conatainer id> <username/imagename>"
   ]
  },
  {
   "cell_type": "markdown",
   "id": "f69e83b5",
   "metadata": {},
   "source": [
    "7.\tHow to delete an image from the local storage system?"
   ]
  },
  {
   "cell_type": "markdown",
   "id": "7e4eaefc",
   "metadata": {},
   "source": [
    "To remove the image, list all the images to get the Image IDs, Image name and other details with th command docker images -a or docker images . After that execute the command docker rmi <your-image-id>"
   ]
  },
  {
   "cell_type": "markdown",
   "id": "84a3177c",
   "metadata": {},
   "source": [
    "8.\tHow to build a Dockerfile? "
   ]
  },
  {
   "cell_type": "markdown",
   "id": "efa33197",
   "metadata": {},
   "source": [
    "Once you’ve written a Dockerfile, you need to build it to create an image with those specifications. Use the following command to build a Dockerfile:\n",
    "\n",
    "$ docker build <path to docker file>\n",
    "\n",
    "The next question would be when do you use “.dockerfile_name” and when to use the entire path?\n",
    "\n",
    "Use “.dockerfile_name” when the dockerfile exits in the same file directory and you use the entire path if it lives somewhere else"
   ]
  },
  {
   "cell_type": "markdown",
   "id": "1a5aef2c",
   "metadata": {},
   "source": [
    "9.\t Do you know why the docker system prune is used? What does it do?"
   ]
  },
  {
   "cell_type": "markdown",
   "id": "4f8f1544",
   "metadata": {},
   "source": [
    "The basic usage of the command docker system prune is to Remove unused data. \n",
    "\n",
    "It removes all unused containers, networks, images (both dangling and unreferenced), and optionally volumes."
   ]
  },
  {
   "cell_type": "markdown",
   "id": "66a6b6ab",
   "metadata": {},
   "source": [
    "10.\t What command can you run to export a docker image as an archive?"
   ]
  },
  {
   "cell_type": "markdown",
   "id": "63e8a3f1",
   "metadata": {},
   "source": [
    "docker container export [OPTIONS] CONTAINER\n",
    "\n",
    "Options : --output , -o"
   ]
  }
 ],
 "metadata": {
  "kernelspec": {
   "display_name": "Python 3 (ipykernel)",
   "language": "python",
   "name": "python3"
  },
  "language_info": {
   "codemirror_mode": {
    "name": "ipython",
    "version": 3
   },
   "file_extension": ".py",
   "mimetype": "text/x-python",
   "name": "python",
   "nbconvert_exporter": "python",
   "pygments_lexer": "ipython3",
   "version": "3.9.7"
  }
 },
 "nbformat": 4,
 "nbformat_minor": 5
}
