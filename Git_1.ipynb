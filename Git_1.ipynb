{
 "cells": [
  {
   "cell_type": "markdown",
   "id": "9dc73551",
   "metadata": {},
   "source": [
    "1.\tWhat is a git stash list?"
   ]
  },
  {
   "cell_type": "markdown",
   "id": "c1143a2b",
   "metadata": {},
   "source": [
    "git stash temporarily stashes changes you've made to your working copy so you can work on something else, and then come back and re-apply them later on"
   ]
  },
  {
   "cell_type": "markdown",
   "id": "9263aa2a",
   "metadata": {},
   "source": [
    "2.\tHow do you get a list of all the files that have been updated in a given commit?"
   ]
  },
  {
   "cell_type": "markdown",
   "id": "5108511a",
   "metadata": {},
   "source": [
    "To find out which files changed in a given commit, use the git log --raw command."
   ]
  },
  {
   "cell_type": "markdown",
   "id": "d5f9523e",
   "metadata": {},
   "source": [
    "3.\tWhat is a Git merge conflict?"
   ]
  },
  {
   "cell_type": "markdown",
   "id": "af7a9f97",
   "metadata": {},
   "source": [
    "A merge conflict is an event that occurs when Git is unable to automatically resolve differences in code between two commits. "
   ]
  },
  {
   "cell_type": "markdown",
   "id": "e1d76c70",
   "metadata": {},
   "source": [
    "4.\tHow do you distinguish between git fetch and git pull? How do you differentiate between Git Merge and Git Rebase?"
   ]
  },
  {
   "cell_type": "markdown",
   "id": "ae6531ab",
   "metadata": {},
   "source": [
    "git fetch command  makes the local git to retrieve the latest meta-data info from the original repository. git pull on the other hand does that AND copy those changes from the remote repository."
   ]
  },
  {
   "cell_type": "markdown",
   "id": "0feab599",
   "metadata": {},
   "source": [
    "5.\tWhat command uploads any GitHub repository to your computer using the git command?"
   ]
  },
  {
   "cell_type": "markdown",
   "id": "ca94cff2",
   "metadata": {},
   "source": [
    "The git push command is used to transfer or push the commit."
   ]
  },
  {
   "cell_type": "markdown",
   "id": "61af58db",
   "metadata": {},
   "source": [
    "6.\tHow do you write a commit message using the command? How do you push code in GitHub?"
   ]
  },
  {
   "cell_type": "markdown",
   "id": "5b1d5415",
   "metadata": {},
   "source": [
    "To create a Git commit with a message is to execute “git commit” with the “-m” option followed by your commit message.\n",
    "\n",
    " git commit -m \"Describe your commit here\"\n",
    " \n",
    " With the following commands the code can be pushed.\n",
    " \n",
    " git remote add origin < repository URL>\n",
    " \n",
    " git push origin master"
   ]
  },
  {
   "cell_type": "markdown",
   "id": "48f7d6b4",
   "metadata": {},
   "source": [
    "7.\tHow do you make a Git repository?"
   ]
  },
  {
   "cell_type": "markdown",
   "id": "d6e8f7d6",
   "metadata": {},
   "source": [
    "In the upper-right corner of any page, use the  drop-down menu, and select New repository.\n",
    "\n",
    "Type a short, memorable name for your repository. For example, \"hello-world\".\n",
    "\n",
    "Optionally, add a description of your repository. For example, \"My first repository on GitHub.\"\n",
    "\n",
    "Choose a repository visibility. For more information, see \"About repositories.\"\n",
    "\n",
    "Select Initialize this repository with a README.\n",
    "\n",
    "Click Create repository.\n"
   ]
  },
  {
   "cell_type": "markdown",
   "id": "e70c8ed6",
   "metadata": {},
   "source": [
    "8.\tWhat is Git, and how does it work?"
   ]
  },
  {
   "cell_type": "markdown",
   "id": "811dc69a",
   "metadata": {},
   "source": [
    "Git is a DevOps tool used for source code management. It is a free and open-source version control system used to handle small to very large projects efficiently. Git is used to tracking changes in the source code, enabling multiple developers to work together on non-linear development."
   ]
  }
 ],
 "metadata": {
  "kernelspec": {
   "display_name": "Python 3 (ipykernel)",
   "language": "python",
   "name": "python3"
  },
  "language_info": {
   "codemirror_mode": {
    "name": "ipython",
    "version": 3
   },
   "file_extension": ".py",
   "mimetype": "text/x-python",
   "name": "python",
   "nbconvert_exporter": "python",
   "pygments_lexer": "ipython3",
   "version": "3.9.7"
  }
 },
 "nbformat": 4,
 "nbformat_minor": 5
}
