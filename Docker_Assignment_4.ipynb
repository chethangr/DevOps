{
 "cells": [
  {
   "cell_type": "markdown",
   "id": "920e1224",
   "metadata": {},
   "source": [
    "1.\tWhat are features possible only under Docker Enterprise Edition compared to the Docker community edition?"
   ]
  },
  {
   "cell_type": "markdown",
   "id": "0d39eb24",
   "metadata": {},
   "source": [
    "Docker Enterprise Edition provides certified Docker images and plugins. With this certification, Docker Inc. ensures that the images in question pass security and best-practice checks. In other words, they guarantee a certain baseline of reliability.\n",
    "\n",
    "Docker Enterprise Edition also provides Active Directory or LDAP user integration, continuous vulnerability and security scans, and container app and image management features."
   ]
  },
  {
   "cell_type": "markdown",
   "id": "e56ae6d1",
   "metadata": {},
   "source": [
    "2.\tHow to create a user-defined bridge network?"
   ]
  },
  {
   "cell_type": "markdown",
   "id": "6cc1c43c",
   "metadata": {},
   "source": [
    "Use the docker network create command to create a user-defined bridge network.\n",
    "\n",
    " docker network create my-net\n",
    " \n",
    "You can specify the subnet, the IP address range, the gateway, and other options. See the docker network create reference or the output of docker network create --help for details."
   ]
  },
  {
   "cell_type": "markdown",
   "id": "982dc618",
   "metadata": {},
   "source": [
    "3.\tDoes Docker support IPv6?"
   ]
  },
  {
   "cell_type": "markdown",
   "id": "edf9ff6f",
   "metadata": {},
   "source": [
    "Yes, Docker provides support IPv6. IPv6 networking is supported only on Docker daemons runs on Linux hosts. However, if you want to enable IPv6 support in the Docker daemon, you need to modify /etc/docker/daemon.json and set the ipv6 key to true."
   ]
  },
  {
   "cell_type": "markdown",
   "id": "93438c2a",
   "metadata": {},
   "source": [
    "4.\tHow to deploy your images with azure container instances?"
   ]
  },
  {
   "cell_type": "markdown",
   "id": "a0a710aa",
   "metadata": {},
   "source": [
    "Use the Azure portal to deploy an isolated Docker container and make its application available with a fully qualified domain name. After configuring a few settings and deploying the container, you can browse to the running application:\n",
    "\n",
    "1. Sign in to the Azure portal at https://portal.azure.com.\n",
    "\n",
    "\n",
    "2. Create a container instance\n",
    "   Select the Create a resource > Containers > Container Instances.\n",
    "\n",
    "Begin creating a new container instance in the Azure portal\n",
    "\n",
    "On the Basics page, enter the following values in the Resource group, Container name, and Container image text boxes. Leave the other values at their defaults, then select OK.\n",
    "\n",
    "Resource group: Create new > myresourcegroup\n",
    "Container name: mycontainer\n",
    "Image source: Quickstart images\n",
    "Container image: mcr.microsoft.com/azuredocs/aci-helloworld (Linux)\n",
    "Configuring basic settings for a new container instance in the Azure portal\n",
    "\n",
    "For this quickstart, you use default settings to deploy the public Microsoft aci-helloworld image. This sample Linux image packages a small web app written in Node.js that serves a static HTML page. You can also bring your own container images stored in Azure Container Registry, Docker Hub, or other registries.\n",
    "\n",
    "On the Networking page, specify a DNS name label for your container. The name must be unique within the Azure region where you create the container instance. Your container will be publicly reachable at <dns-name-label>.<region>.azurecontainer.io. If you receive a \"DNS name label not available\" error message, try a different DNS name label.\n",
    "\n",
    "Configuring network settings for a new container instance in the Azure portal\n",
    "\n",
    "Leave the other settings at their defaults, then select Review + create.\n",
    "\n",
    "When the validation completes, you're shown a summary of the container's settings. Select Create to submit your container deployment request.\n",
    "\n",
    "Settings summary for a new container instance in the Azure portal\n",
    "\n",
    "When deployment starts, a notification appears to indicate the deployment is in progress. Another notification is displayed when the container group has been deployed.\n",
    "\n",
    "Open the overview for the container group by navigating to Resource Groups > myresourcegroup > mycontainer. Take note of the FQDN (the fully qualified domain name) of the container instance, as well its Status.\n",
    "\n",
    "Container group overview in the Azure portal\n",
    "\n",
    "Once its Status is Running, navigate to the container's FQDN in your browser.\n",
    "\n",
    "App deployed using Azure Container Instances viewed in browser\n",
    "\n",
    "Congratulations! By configuring just a few settings, you've deployed a publicly accessible application in Azure Container Instances.\n",
    "\n",
    "View container logs\n",
    "Viewing the logs for a container instance is helpful when troubleshooting issues with your container or the application it runs.\n",
    "\n",
    "To view the container's logs, under Settings, select Containers, then Logs. You should see the HTTP GET request generated when you viewed the application in your browser."
   ]
  },
  {
   "cell_type": "markdown",
   "id": "da1ba518",
   "metadata": {},
   "source": [
    "5.\tWhat is the docker swarm?"
   ]
  },
  {
   "cell_type": "markdown",
   "id": "15edfeb2",
   "metadata": {},
   "source": [
    "Docker Swarm is native gathering for docker which helps you to a group of Docker hosts into a single and virtual docker host. It offers the standard docker application program interface."
   ]
  },
  {
   "cell_type": "markdown",
   "id": "9c1ceae0",
   "metadata": {},
   "source": [
    "6.\tWhat is a memory-swap flag?"
   ]
  },
  {
   "cell_type": "markdown",
   "id": "ed28ddd2",
   "metadata": {},
   "source": [
    "Memory-swap is a modified flag that only has meaning if- memory is also set. Swap allows the container to write express memory requirements to disk when the container has exhausted all the RAM which is available to it."
   ]
  },
  {
   "cell_type": "markdown",
   "id": "256d33f2",
   "metadata": {},
   "source": [
    "7.\tCan you explain the different volume mount types available in Docker?"
   ]
  },
  {
   "cell_type": "markdown",
   "id": "0e37d20b",
   "metadata": {},
   "source": [
    "Bind mounts- It can be stored anywhere on the host system"
   ]
  },
  {
   "cell_type": "markdown",
   "id": "7c6f355b",
   "metadata": {},
   "source": [
    "8.\tHow to share data among Docker hosts?"
   ]
  },
  {
   "cell_type": "markdown",
   "id": "bf0f2cb4",
   "metadata": {},
   "source": [
    "Docker volumes can be used to share files between a host system and the Docker container. For example, let’s say you wanted to use the official Docker Nginx image and keep a permanent copy of Nginx’s log files to analyze later. By default, the nginx Docker image will log to the /var/log/nginx directory inside the Docker Nginx container. Normally it’s not reachable from the host filesystem.\n",
    "\n",
    "\n",
    "Step 1 — Bindmounting a Volume\n",
    "\n",
    "The following command will create a directory called nginxlogs in your current user’s home directory and bindmount it to /var/log/nginx in the container:\n",
    "\n",
    "docker run --name=nginx -d -v ~/nginxlogs:/var/log/nginx -p 5000:80 nginx\n",
    "\n",
    "Step 2 — Accessing Data on the Host\n",
    "We now have a copy of Nginx running inside a Docker container on our machine, and our host machine’s port 5000 maps directly to that copy of Nginx’s port 80.\n",
    "\n",
    "Load the address in a web browser, using the IP address or hostname of your server and the port number: http://your_server_ip:5000."
   ]
  },
  {
   "cell_type": "markdown",
   "id": "144cf847",
   "metadata": {},
   "source": [
    "9.\tHow to backup, restore, or Migrate data volumes under docker containers?"
   ]
  },
  {
   "cell_type": "markdown",
   "id": "57658120",
   "metadata": {},
   "source": [
    "Use the --volumes-from flag to create a new container that mounts that volume.\n",
    "\n",
    "1. Back up a volume\n",
    "\n",
    " docker run -v /dbdata --name dbstore ubuntu /bin/bash\n",
    "Then in the next command, we:\n",
    "\n",
    "Launch a new container and mount the volume from the dbstore container\n",
    "Mount a local host directory as /backup\n",
    "Pass a command that tars the contents of the dbdata volume to a backup.tar file inside our /backup directory.\n",
    "\n",
    " docker run --rm --volumes-from dbstore -v $(pwd):/backup ubuntu tar cvf /backup/backup.tar /dbdata\n",
    " \n",
    "When the command completes and the container stops, we are left with a backup of our dbdata volume.\n",
    "\n",
    "2. Restore volume from backup\n",
    "\n",
    "With the backup just created, you can restore it to the same container, or another that you made elsewhere.\n",
    "\n",
    " docker run -v /dbdata --name dbstore2 ubuntu /bin/bash\n",
    " \n",
    "Then un-tar the backup file in the new container`s data volume:\n",
    "\n",
    " docker run --rm --volumes-from dbstore2 -v $(pwd):/backup ubuntu bash -c \"cd /dbdata && tar xvf /backup/backup.tar --strip 1\""
   ]
  },
  {
   "cell_type": "markdown",
   "id": "dc28a389",
   "metadata": {},
   "source": [
    "10.\tWhy does the docker service take 10 seconds to recreate or stop?"
   ]
  },
  {
   "cell_type": "markdown",
   "id": "75eac5fe",
   "metadata": {},
   "source": [
    "A docker-compose stop will attempt to stop a specific Docker container by sending a SIGTERM message. Once this message is delivered, it waits for the default timeout period of 10 seconds and once the timeout period is crossed, it then sends out a SIGKILL message to the container – in order to kill it forcefully. If you are actually waiting for the timeout period, then it means that the containers are not shutting down on receiving SIGTERM signals/messages."
   ]
  }
 ],
 "metadata": {
  "kernelspec": {
   "display_name": "Python 3 (ipykernel)",
   "language": "python",
   "name": "python3"
  },
  "language_info": {
   "codemirror_mode": {
    "name": "ipython",
    "version": 3
   },
   "file_extension": ".py",
   "mimetype": "text/x-python",
   "name": "python",
   "nbconvert_exporter": "python",
   "pygments_lexer": "ipython3",
   "version": "3.9.7"
  }
 },
 "nbformat": 4,
 "nbformat_minor": 5
}
