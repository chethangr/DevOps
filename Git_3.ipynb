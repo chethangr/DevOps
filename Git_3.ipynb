{
 "cells": [
  {
   "cell_type": "markdown",
   "id": "6f65bab5",
   "metadata": {},
   "source": [
    "1.\tWhat is git stockpile, and how does it work? How do you use it?"
   ]
  },
  {
   "cell_type": "markdown",
   "id": "a87a5c9f",
   "metadata": {},
   "source": [
    "Stockpile supports the durable storage and retrieval of data. After storage, stockpile returns an entry that can be used to access the data later, and when no longer needed, the data can be atomically discard "
   ]
  },
  {
   "cell_type": "markdown",
   "id": "dfbfd6b5",
   "metadata": {},
   "source": [
    "2.\tDescribe the various branching strategies."
   ]
  },
  {
   "cell_type": "markdown",
   "id": "07f19dd5",
   "metadata": {},
   "source": [
    "Trunk-based Development (No Branching).\n",
    "\n",
    "Release Branching.\n",
    "\n",
    "Feature Branching.\n",
    "\n",
    "Story or Task Branching.\n",
    "\n",
    "Manual Code Review and Merge.\n",
    "\n",
    "Minimal Continuous Integration.\n",
    "\n",
    "Continuous Integration Pipeline with Quality Gates."
   ]
  },
  {
   "cell_type": "markdown",
   "id": "830803c2",
   "metadata": {},
   "source": [
    "3.\tHow do you remove data from Git without being removed from your system?"
   ]
  },
  {
   "cell_type": "markdown",
   "id": "07aedfb0",
   "metadata": {},
   "source": [
    "First: to make sure you don't add it, commit it or push it in future -- add it to your .gitignore file.\n",
    "\n",
    "if you haven't added it, committed it or pushed it... do nothing (you added it to .gitignore above right?)\n",
    "\n",
    "if you've added it, but haven't committed it or pushed it... (you've since added it to .gitignore above right?)\n",
    "\n",
    "git reset {someFile}\n",
    "if you added it, committed it, maybe even pushed it... (you've since added it to .gitignore above right?)\n",
    "\n",
    "for a file:\n",
    "\n",
    "git rm --cached {someFile}\n",
    "\n",
    "for a directory\n",
    "\n",
    "git rm --cached -r {someDir}"
   ]
  },
  {
   "cell_type": "markdown",
   "id": "5f84255e",
   "metadata": {},
   "source": [
    "4.\tIn Git, what does 'index' or 'hosting location' mean?"
   ]
  },
  {
   "cell_type": "markdown",
   "id": "1c6e9bbb",
   "metadata": {},
   "source": [
    "The git \"index\" is where you place files you want commit to the git repository."
   ]
  },
  {
   "cell_type": "markdown",
   "id": "74be9d63",
   "metadata": {},
   "source": [
    "5.\tWhat is the difference between 'git remote' and 'git duplicate'?"
   ]
  },
  {
   "cell_type": "markdown",
   "id": "c3469011",
   "metadata": {},
   "source": [
    "git remote is used to refer to a remote repository or your central repository. git clone is used to copy or clone a different repository"
   ]
  },
  {
   "cell_type": "markdown",
   "id": "19a3ec17",
   "metadata": {},
   "source": [
    "6.\tWhat is Git Remote's purpose?"
   ]
  },
  {
   "cell_type": "markdown",
   "id": "b8dcd334",
   "metadata": {},
   "source": [
    "The git remote command lets you create, view, and delete connections to other repositories."
   ]
  },
  {
   "cell_type": "markdown",
   "id": "6cfc5e3a",
   "metadata": {},
   "source": [
    "7.\tHow can I clear up a git reflog?"
   ]
  },
  {
   "cell_type": "markdown",
   "id": "d25e5fc4",
   "metadata": {},
   "source": [
    "git reflog expire --expire-unreachable=now --all removes all references of unreachable commits in reflog .\n",
    "\n",
    "git gc --prune=now removes the commits themselves"
   ]
  },
  {
   "cell_type": "markdown",
   "id": "b209a054",
   "metadata": {},
   "source": [
    "8.\tHow can you distinguish between the git pull and git bring commands?"
   ]
  },
  {
   "cell_type": "markdown",
   "id": "045cc3e4",
   "metadata": {},
   "source": [
    "git pull is a Git command used to update the local version of a repository from a remote\n",
    "\n"
   ]
  }
 ],
 "metadata": {
  "kernelspec": {
   "display_name": "Python 3 (ipykernel)",
   "language": "python",
   "name": "python3"
  },
  "language_info": {
   "codemirror_mode": {
    "name": "ipython",
    "version": 3
   },
   "file_extension": ".py",
   "mimetype": "text/x-python",
   "name": "python",
   "nbconvert_exporter": "python",
   "pygments_lexer": "ipython3",
   "version": "3.9.7"
  }
 },
 "nbformat": 4,
 "nbformat_minor": 5
}
