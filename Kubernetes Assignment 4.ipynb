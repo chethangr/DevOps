{
 "cells": [
  {
   "cell_type": "markdown",
   "id": "c740d098",
   "metadata": {},
   "source": [
    "1.\tWhat are the benefits of having operators?"
   ]
  },
  {
   "cell_type": "markdown",
   "id": "4a02ab84",
   "metadata": {},
   "source": [
    "1 Reduce complexity. Traditional application deployment is complex, time consuming, and repetitive.\n",
    "\n",
    "2 Improve consistency\n",
    "\n",
    "3 Automate at the level you need.\n",
    "\n",
    "4 Achieve compatibility."
   ]
  },
  {
   "cell_type": "markdown",
   "id": "307d5a4c",
   "metadata": {},
   "source": [
    "2.\tWhat exactly is GKE?"
   ]
  },
  {
   "cell_type": "markdown",
   "id": "38926ad0",
   "metadata": {},
   "source": [
    "GKE or Google Container Engine is a management platform that supports clusters and Docker containers that run within public cloud services of Google."
   ]
  },
  {
   "cell_type": "markdown",
   "id": "1c19532b",
   "metadata": {},
   "source": [
    "3.\tWhat is the best way to operate Kubernetes locally?"
   ]
  },
  {
   "cell_type": "markdown",
   "id": "eb849961",
   "metadata": {},
   "source": [
    "Kubernetes can be run locally using the Minikube tool. It runs a single-node cluster in a VM (virtual machine) on the computer. Therefore, it offers the ideal way for users who have just started learning Kubernetes."
   ]
  },
  {
   "cell_type": "markdown",
   "id": "8473ba49",
   "metadata": {},
   "source": [
    "4.\tWhat is the difference between Kubernetes and Docker Swarm?"
   ]
  },
  {
   "cell_type": "markdown",
   "id": "c445ac23",
   "metadata": {},
   "source": [
    "The installation procedure of the K8s is very complicated but after installation the cluster is robust.\n",
    "\n",
    "Docker swarm installation process is very simple but the cluster is not robust.\n",
    "\n",
    "Kubernetes can process the auto-scaling but the Docker swarm cannot process the auto-scaling of the pods based on the load.\n",
    "\n",
    "Kubernetes is a complete Framework. It maintains the cluster states more consistently so autoscaling is not as fast as Docker Swarm.\n"
   ]
  },
  {
   "cell_type": "markdown",
   "id": "d8e3d04b",
   "metadata": {},
   "source": [
    "5.\tHow does Kubernetes make containerized deployment easier?"
   ]
  },
  {
   "cell_type": "markdown",
   "id": "65fba3f3",
   "metadata": {},
   "source": [
    "Kubernetes is an open source container orchestration platform that allows large numbers of containers to work together in congruence and reduces operational burdens. It enables simplified heterogenous deployment of application from On-Prem to Cloud to Edge."
   ]
  }
 ],
 "metadata": {
  "kernelspec": {
   "display_name": "Python 3 (ipykernel)",
   "language": "python",
   "name": "python3"
  },
  "language_info": {
   "codemirror_mode": {
    "name": "ipython",
    "version": 3
   },
   "file_extension": ".py",
   "mimetype": "text/x-python",
   "name": "python",
   "nbconvert_exporter": "python",
   "pygments_lexer": "ipython3",
   "version": "3.9.7"
  }
 },
 "nbformat": 4,
 "nbformat_minor": 5
}
