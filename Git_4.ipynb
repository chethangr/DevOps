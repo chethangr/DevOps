{
 "cells": [
  {
   "cell_type": "markdown",
   "id": "7c222805",
   "metadata": {},
   "source": [
    "1.\tHow can new features be added to the main branch? What is a git conflict?"
   ]
  },
  {
   "cell_type": "markdown",
   "id": "cdb5fae7",
   "metadata": {},
   "source": [
    "Start with the main branch. All feature branches are created off the latest code state of a project.\n",
    "\n",
    "Create a new-branch.\n",
    "\n",
    "Update, add, commit, and push changes.\n",
    "\n",
    "Push feature branch to remote.\n",
    "\n",
    "Resolve feedback.\n",
    "\n",
    "Merge your pull request."
   ]
  },
  {
   "cell_type": "markdown",
   "id": "67128765",
   "metadata": {},
   "source": [
    "2.\tHow do I remove a branch from GIT?"
   ]
  },
  {
   "cell_type": "markdown",
   "id": "1de5ae87",
   "metadata": {},
   "source": [
    "To remove a branch with the command git branch -d <branch>"
   ]
  },
  {
   "cell_type": "markdown",
   "id": "9f8a8bca",
   "metadata": {},
   "source": [
    "3.\tWhat is the purpose of the git checkout command?"
   ]
  },
  {
   "cell_type": "markdown",
   "id": "634e1a08",
   "metadata": {},
   "source": [
    "The git checkout command helps to navigate between the branches created by git branch ."
   ]
  },
  {
   "cell_type": "markdown",
   "id": "9ddbb573",
   "metadata": {},
   "source": [
    "4.\tWhat is the purpose of the git commit command?"
   ]
  },
  {
   "cell_type": "markdown",
   "id": "08a54660",
   "metadata": {},
   "source": [
    "The git commit command captures a snapshot of the project's currently staged changes. Committed snapshots can be thought of as “safe” versions of a project—Git will never change them unless you explicitly ask it to"
   ]
  },
  {
   "cell_type": "markdown",
   "id": "b22f907f",
   "metadata": {},
   "source": [
    "5.\tWhat is the purpose of the command 'git rm'?"
   ]
  },
  {
   "cell_type": "markdown",
   "id": "79227f4c",
   "metadata": {},
   "source": [
    "git rm is used to remove a file from a Git repository. "
   ]
  },
  {
   "cell_type": "markdown",
   "id": "67d80bef",
   "metadata": {},
   "source": [
    "6.\tWhat is the purpose of the git log command?"
   ]
  },
  {
   "cell_type": "markdown",
   "id": "3ff6f739",
   "metadata": {},
   "source": [
    "Git log is a utility tool to review and read a history of everything that happens to a repository."
   ]
  },
  {
   "cell_type": "markdown",
   "id": "7181fec3",
   "metadata": {},
   "source": [
    "7.\tWhat is the purpose of 'git add'?"
   ]
  },
  {
   "cell_type": "markdown",
   "id": "8eae74dc",
   "metadata": {},
   "source": [
    "The git add command adds a change in the working directory to the staging area."
   ]
  },
  {
   "cell_type": "markdown",
   "id": "6a166214",
   "metadata": {},
   "source": [
    "8.\tIn GIT, what is a 'bare repository'?"
   ]
  },
  {
   "cell_type": "markdown",
   "id": "4d15f4f7",
   "metadata": {},
   "source": [
    "A bare repository is the same as default, but no commits can be made in a bare repository. The changes made in projects cannot be tracked by a bare repository as it doesn't have a working tree."
   ]
  },
  {
   "cell_type": "markdown",
   "id": "bd9a1365",
   "metadata": {},
   "source": [
    "9.\tWhat's the difference between git remote and git clone?"
   ]
  },
  {
   "cell_type": "markdown",
   "id": "39222010",
   "metadata": {},
   "source": [
    "The git rm command can be used to remove individual files or a collection of files.\n",
    "\n",
    "git clone is a Git command line utility which is used to target an existing repository and create a clone, or copy of the target repository."
   ]
  }
 ],
 "metadata": {
  "kernelspec": {
   "display_name": "Python 3 (ipykernel)",
   "language": "python",
   "name": "python3"
  },
  "language_info": {
   "codemirror_mode": {
    "name": "ipython",
    "version": 3
   },
   "file_extension": ".py",
   "mimetype": "text/x-python",
   "name": "python",
   "nbconvert_exporter": "python",
   "pygments_lexer": "ipython3",
   "version": "3.9.7"
  }
 },
 "nbformat": 4,
 "nbformat_minor": 5
}
