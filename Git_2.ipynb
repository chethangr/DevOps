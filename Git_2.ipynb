{
 "cells": [
  {
   "cell_type": "markdown",
   "id": "412e804a",
   "metadata": {},
   "source": [
    "1.\tWhat does the command 'git status' do?"
   ]
  },
  {
   "cell_type": "markdown",
   "id": "33743845",
   "metadata": {},
   "source": [
    "- 'git status' command displays the current state of working directory and also the staging area.It won't modify commits or changes in your local repository. "
   ]
  },
  {
   "cell_type": "markdown",
   "id": "c0d5b11e",
   "metadata": {},
   "source": [
    "2.\tHow to delete a Git local branch?"
   ]
  },
  {
   "cell_type": "markdown",
   "id": "9897071f",
   "metadata": {},
   "source": [
    "- Using the command `git branch -d < local branch-name >` . When the changes in local branch haven't been merged to remote repository, Git sometimes doesn't allow to delete local branch. In that case, to forced delete, use `git branch -D < local branch-name >`  "
   ]
  },
  {
   "cell_type": "markdown",
   "id": "3c620652",
   "metadata": {},
   "source": [
    "3.\tHow can I add a project to Git that already exists?"
   ]
  },
  {
   "cell_type": "markdown",
   "id": "2b107b65",
   "metadata": {},
   "source": [
    "- Initialize the local directory as a git directory:\n",
    "  - `git init`\n",
    "  - `git add --all`\n",
    "  - `git commit -m \"First commit\" `\n",
    "\n",
    "- Add URL of the remore repo\n",
    "  - `git remote add origin  <REMOTE_URL> ` \n",
    "- Push the changes\n",
    "  - `git push origin main`"
   ]
  },
  {
   "cell_type": "markdown",
   "id": "537f1b2d",
   "metadata": {},
   "source": [
    "4.\tWhat exactly is a Git fork? What are the distinctions between a fork, a branch, and a clone? "
   ]
  },
  {
   "cell_type": "markdown",
   "id": "392e1f85",
   "metadata": {},
   "source": [
    "Forking is a git clone operation executed on a server copy of a projects repo. \n",
    "\n",
    "Differences between a fork, a branch and a clone:\n",
    "- Forks are local instantiations that let you make changes to someone else’s codebase. It creates a completely independent copy of Git repository\n",
    "- A branch is a slightly changed or modified section of code. Branches are not copies of each other but have same origin.\n",
    "- A clone is a copy of all the code on the master branch. It is an exact replica of the code from the master branch.\n",
    "\n"
   ]
  },
  {
   "cell_type": "markdown",
   "id": "c75071aa",
   "metadata": {},
   "source": [
    "5.\tWhat is the difference between HEAD, working tree, and index in GIT? "
   ]
  },
  {
   "cell_type": "markdown",
   "id": "0542505a",
   "metadata": {},
   "source": [
    "- Working trees: They are the files that you are currently working on. \n",
    "\n",
    "- HEAD: It is a pointer to the branch or commit that was last checked out, and which will be the parent of a new commits. \n",
    "\n",
    "- Index: It is where we place files we want commit to the git repository."
   ]
  },
  {
   "cell_type": "markdown",
   "id": "8318a686",
   "metadata": {},
   "source": [
    "6.\tWhich GIT command is used to change branches?"
   ]
  },
  {
   "cell_type": "markdown",
   "id": "c2530cd8",
   "metadata": {},
   "source": [
    "`git checkout <branch name>`\n",
    "\n",
    "`git checkout -b  <new_branch name>`"
   ]
  },
  {
   "cell_type": "markdown",
   "id": "c2681c2a",
   "metadata": {},
   "source": [
    "7.\tWhat is the difference between GitHub and Git?"
   ]
  },
  {
   "cell_type": "markdown",
   "id": "779fdb06",
   "metadata": {},
   "source": [
    "- Git is a version control system that lets you manage and keep track of your source code history. \n",
    "- GitHub is a cloud-based hosting service that lets you manage Git repositories."
   ]
  },
  {
   "cell_type": "markdown",
   "id": "8d31c9d7",
   "metadata": {},
   "source": [
    "8.\tWhat are some of the advantages of using the Variation Control System? Which programming language is used in Git?"
   ]
  },
  {
   "cell_type": "markdown",
   "id": "08764975",
   "metadata": {},
   "source": [
    "Main benefits of using the Variation Control System are:\n",
    "- A complete long-term change history of every file. This means every change made by many individuals over the years.\n",
    "- Branching and merging. \n",
    "- Traceability. Being able to trace each change made to the software and connect it to project management and bug tracking softwares.\n",
    "\n",
    "The main programming languages used in core Git are:\n",
    "- C\n",
    "- Shell\n",
    "- Perl\n",
    "- Tcl\n",
    "- Python\n",
    "- C++"
   ]
  },
  {
   "cell_type": "markdown",
   "id": "2962e35d",
   "metadata": {},
   "source": [
    "9.\tList out some Git repository features."
   ]
  },
  {
   "cell_type": "markdown",
   "id": "88fc77c0",
   "metadata": {},
   "source": [
    "- Distributed System\n",
    "- Compatability with most of the Operating Systems\n",
    "- Non-linear development\n",
    "- Branching\n",
    "- Speed and light-weight\n",
    "- Open source VCS\n",
    "- Secure and reliable\n",
    "- Scalable\n",
    "- Easy traceability\n"
   ]
  }
 ],
 "metadata": {
  "kernelspec": {
   "display_name": "Python 3 (ipykernel)",
   "language": "python",
   "name": "python3"
  },
  "language_info": {
   "codemirror_mode": {
    "name": "ipython",
    "version": 3
   },
   "file_extension": ".py",
   "mimetype": "text/x-python",
   "name": "python",
   "nbconvert_exporter": "python",
   "pygments_lexer": "ipython3",
   "version": "3.9.7"
  }
 },
 "nbformat": 4,
 "nbformat_minor": 5
}
