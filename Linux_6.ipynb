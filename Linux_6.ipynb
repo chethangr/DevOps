{
 "cells": [
  {
   "cell_type": "markdown",
   "id": "48b04ec7",
   "metadata": {},
   "source": [
    "1.\tExplain ls command"
   ]
  },
  {
   "cell_type": "markdown",
   "id": "a1d689be",
   "metadata": {},
   "source": [
    "The ls is the list command in Linux. It will show the full list or content of your directory"
   ]
  },
  {
   "cell_type": "markdown",
   "id": "86455807",
   "metadata": {},
   "source": [
    "2.\tWhat are the various versions of ls command?"
   ]
  },
  {
   "cell_type": "markdown",
   "id": "47126ca8",
   "metadata": {},
   "source": [
    "ls -a\n",
    "\n",
    "ls -l\n",
    "\n",
    "ls -lh\t\n",
    "\n",
    "ls -lhS\t\n",
    "\n",
    "ls -l \n",
    "\n",
    "ls -d */\n",
    "\n",
    "ls -g or ls -lG\n",
    "\n",
    "ls -n\t\n",
    "\n",
    "ls --color=[VALUE]\n",
    "\n",
    "ls -li\t\n",
    "\n",
    "ls -p\t\n",
    "\n",
    "ls -r\t\n",
    "\n",
    "ls -R\t\n",
    "\n",
    "ls -lX\t\n",
    "\n",
    "ls -lt\t\n",
    "\n",
    "ls ~\n",
    "\n",
    "ls ../\n",
    "\n",
    "ls --version"
   ]
  },
  {
   "cell_type": "markdown",
   "id": "0e481907",
   "metadata": {},
   "source": [
    "3.\tWhat is a Linux distro?"
   ]
  },
  {
   "cell_type": "markdown",
   "id": "81a58e07",
   "metadata": {},
   "source": [
    "Linux distro is a version of the open source Linux operating system that is packaged with other components, such as an installation programs, management tools and additional software such as the KVM hypervisor."
   ]
  },
  {
   "cell_type": "markdown",
   "id": "c204cca2",
   "metadata": {},
   "source": [
    "4.\tWhat are the Linux distro you know?"
   ]
  },
  {
   "cell_type": "markdown",
   "id": "021a72f1",
   "metadata": {},
   "source": [
    "RHEL\n",
    "\n",
    "CentOS\n",
    "\n",
    "Fedora\n",
    "\n",
    "Ubuntu\n",
    "\n",
    "Debian"
   ]
  },
  {
   "cell_type": "markdown",
   "id": "692ffa54",
   "metadata": {},
   "source": [
    "5.\tWhat is the command to calculate the size of a folder?"
   ]
  },
  {
   "cell_type": "markdown",
   "id": "7c4796f7",
   "metadata": {},
   "source": [
    "By using the du command."
   ]
  },
  {
   "cell_type": "markdown",
   "id": "db7d9be7",
   "metadata": {},
   "source": [
    "6.\tHow can you find the status of a process?"
   ]
  },
  {
   "cell_type": "markdown",
   "id": "5309403f",
   "metadata": {},
   "source": [
    "Using the ps command for eg: ps aux | grep firefox"
   ]
  },
  {
   "cell_type": "markdown",
   "id": "7d0013ee",
   "metadata": {},
   "source": [
    "7.\tHow can you check the memory status?"
   ]
  },
  {
   "cell_type": "markdown",
   "id": "bf03e293",
   "metadata": {},
   "source": [
    "Using free Command."
   ]
  },
  {
   "cell_type": "markdown",
   "id": "ed710e09",
   "metadata": {},
   "source": [
    "8.\tExplain how to enable root logging in Ubuntu?"
   ]
  },
  {
   "cell_type": "markdown",
   "id": "c6bf6708",
   "metadata": {},
   "source": [
    "To Enable the root user account run the following command and enter the password you set initially for your user (sudo user).\n",
    "\n",
    "sudo -i "
   ]
  },
  {
   "cell_type": "markdown",
   "id": "cac7f831",
   "metadata": {},
   "source": [
    "9.\tWhat is the use of the sudo command?"
   ]
  },
  {
   "cell_type": "markdown",
   "id": "baf68060",
   "metadata": {},
   "source": [
    "The sudo command allows you to run programs with the security privileges of another user (as the superuser)."
   ]
  },
  {
   "cell_type": "markdown",
   "id": "69910afb",
   "metadata": {},
   "source": [
    "10.\tExplain how to uninstall the libraries in Linux?"
   ]
  },
  {
   "cell_type": "markdown",
   "id": "4d538a40",
   "metadata": {},
   "source": [
    "To uninstall a program, use the “apt-get” command, which is the general command for installing programs and manipulating installed programs. For example, the following command uninstalls firefox and deletes all the configuration files, using the “--purge” command.\n",
    "\n",
    "sudo apt-get --purge remove firefox\n",
    "\n"
   ]
  }
 ],
 "metadata": {
  "kernelspec": {
   "display_name": "Python 3 (ipykernel)",
   "language": "python",
   "name": "python3"
  },
  "language_info": {
   "codemirror_mode": {
    "name": "ipython",
    "version": 3
   },
   "file_extension": ".py",
   "mimetype": "text/x-python",
   "name": "python",
   "nbconvert_exporter": "python",
   "pygments_lexer": "ipython3",
   "version": "3.9.7"
  }
 },
 "nbformat": 4,
 "nbformat_minor": 5
}
